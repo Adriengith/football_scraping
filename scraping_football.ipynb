{
 "cells": [
  {
   "cell_type": "markdown",
   "metadata": {},
   "source": [
    "## Import"
   ]
  },
  {
   "cell_type": "code",
   "execution_count": 1,
   "metadata": {
    "ExecuteTime": {
     "end_time": "2021-06-25T09:05:32.580006Z",
     "start_time": "2021-06-25T09:05:31.768712Z"
    }
   },
   "outputs": [],
   "source": [
    "import urllib.request\n",
    "from bs4 import BeautifulSoup\n",
    "import requests\n",
    "import re\n",
    "from database import Database\n",
    "import pandas as pd\n",
    "import json\n",
    "import time\n",
    "\n",
    "from database import Database\n",
    "import functions"
   ]
  },
  {
   "cell_type": "code",
   "execution_count": 2,
   "metadata": {
    "ExecuteTime": {
     "end_time": "2021-06-25T09:05:32.608196Z",
     "start_time": "2021-06-25T09:05:32.582219Z"
    }
   },
   "outputs": [],
   "source": [
    "#init\n",
    "database = Database()\n",
    "\n",
    "#create tables\n",
    "database.create_table_championships()\n",
    "database.create_table_teams()\n",
    "database.create_table_players()\n",
    "database.create_table_participations()\n",
    "database.create_table_contracts()\n",
    "database.create_table_matches()\n",
    "database.create_table_matches_teams()\n",
    "database.create_table_goals()"
   ]
  },
  {
   "cell_type": "markdown",
   "metadata": {},
   "source": [
    "## Scrapping Alexandre"
   ]
  },
  {
   "cell_type": "code",
   "execution_count": 9,
   "metadata": {
    "ExecuteTime": {
     "end_time": "2021-06-25T09:06:04.135935Z",
     "start_time": "2021-06-25T09:06:04.132134Z"
    }
   },
   "outputs": [],
   "source": [
    "def connect(url):\n",
    "    url = url\n",
    "    response = requests.get(url)\n",
    "    if response.ok:\n",
    "      soup = BeautifulSoup(response.text,'html.parser')\n",
    "    else:\n",
    "      print(f'L\\'erreur {response.status_code} s\\'est produite')\n",
    "    return soup\n",
    "\n",
    "def replace_com_ls(ls, old_value, new_value):\n",
    "    return [str(k).replace(old_value,new_value) for k in ls]"
   ]
  },
  {
   "cell_type": "code",
   "execution_count": 10,
   "metadata": {
    "ExecuteTime": {
     "end_time": "2021-06-25T09:06:04.946848Z",
     "start_time": "2021-06-25T09:06:04.596175Z"
    }
   },
   "outputs": [],
   "source": [
    "home = connect('https://www.lequipe.fr/Football/ligue-1/page-classement-equipes/general')"
   ]
  },
  {
   "cell_type": "code",
   "execution_count": 11,
   "metadata": {
    "ExecuteTime": {
     "end_time": "2021-06-25T09:06:05.067921Z",
     "start_time": "2021-06-25T09:06:05.059488Z"
    }
   },
   "outputs": [],
   "source": [
    "ls_teams = []\n",
    "for link in home.find_all('a', attrs={'class':'table__link'}):\n",
    "    if link.has_attr('href'):\n",
    "        ls_teams.append('https://www.lequipe.fr' + link['href'])"
   ]
  },
  {
   "cell_type": "code",
   "execution_count": 12,
   "metadata": {
    "ExecuteTime": {
     "end_time": "2021-06-25T09:06:05.487490Z",
     "start_time": "2021-06-25T09:06:05.482740Z"
    }
   },
   "outputs": [],
   "source": [
    "name,country,start_year,end_year = \"Ligue 1 UberEats\", \"France\", 2020, 2021\n",
    "championship_id = database.insert_table_championships(name,country,start_year,end_year)"
   ]
  },
  {
   "cell_type": "code",
   "execution_count": 13,
   "metadata": {
    "ExecuteTime": {
     "end_time": "2021-06-25T09:06:13.618822Z",
     "start_time": "2021-06-25T09:06:06.030172Z"
    }
   },
   "outputs": [],
   "source": [
    "for link in ls_teams:\n",
    "    link_teams = connect(str(link))\n",
    "    name = link_teams.td.strong.text\n",
    "    city = link_teams.section.h1.text\n",
    "    if \"(\" in city:\n",
    "        city = city.split()\n",
    "        del city[1]\n",
    "        city= city[0]\n",
    "    else:\n",
    "        city\n",
    "    date_creation = link_teams.select('td > strong')[1].text\n",
    "    president = link_teams.select('td > strong')[2].text\n",
    "    coach_name = link_teams.select('td > a > strong')[0].text\n",
    "    \n",
    "    team_id = database.insert_table_teams(name,city,coach_name,president,date_creation)\n",
    "    database.insert_table_participations(team_id,championship_id)"
   ]
  },
  {
   "cell_type": "code",
   "execution_count": 14,
   "metadata": {
    "ExecuteTime": {
     "end_time": "2021-06-25T09:06:22.457939Z",
     "start_time": "2021-06-25T09:06:13.621015Z"
    }
   },
   "outputs": [],
   "source": [
    "for link in ls_teams:\n",
    "    link_teams = connect(str(link))\n",
    "    team_name = link_teams.select(\"h1.nom_sportif\")\n",
    "    team_name = [i.text for i in team_name]\n",
    "    if \"(\" in team_name[0]:\n",
    "        team_name = team_name[0].split()\n",
    "        del team_name[1]\n",
    "        team_name\n",
    "    else:\n",
    "        team_name[0]\n",
    "\n",
    "    name=link_teams.select(\"td.nom>a\")\n",
    "    name = [i.text for i in name]\n",
    "    del name[-1]\n",
    "    name = replace_com_ls(name, \"      \", '')\n",
    "    name = replace_com_ls(name, \" \", '')\n",
    "    nationality = link_teams.select(\"td.pays\")\n",
    "    nationality = [i.text for i in nationality]    \n",
    "    birthdate = link_teams.find_all(\"td\", attrs={'class':'ddn'})\n",
    "    birthdate = [i.text for i in birthdate]\n",
    "    position =  link_teams.find_all(\"td\", attrs={'class':'poste'})\n",
    "    position =  [i.text for i in position]\n",
    "\n",
    "    for name,birthdate,position,nationality in zip(name,birthdate,position,nationality):\n",
    "        team_id = database.get_team_id(team_name[0])\n",
    "        player_id = database.insert_table_players(name,position,birthdate,nationality)\n",
    "        database.insert_table_contracts(player_id,team_id)"
   ]
  },
  {
   "cell_type": "markdown",
   "metadata": {
    "ExecuteTime": {
     "end_time": "2021-06-24T11:56:46.845279Z",
     "start_time": "2021-06-24T11:56:46.827108Z"
    }
   },
   "source": [
    "## Scrapping Flo"
   ]
  },
  {
   "cell_type": "code",
   "execution_count": 15,
   "metadata": {
    "ExecuteTime": {
     "end_time": "2021-06-25T09:06:25.144906Z",
     "start_time": "2021-06-25T09:06:25.001716Z"
    }
   },
   "outputs": [],
   "source": [
    "page = requests.get('https://iphdata.lequipe.fr/iPhoneDatas/EFR/STD/ALL/V1/Football/CalendarList/CompetitionPhase/ligue-1/current/1re-journee.json')"
   ]
  },
  {
   "cell_type": "code",
   "execution_count": 16,
   "metadata": {
    "ExecuteTime": {
     "end_time": "2021-06-25T09:06:29.300871Z",
     "start_time": "2021-06-25T09:06:25.716660Z"
    }
   },
   "outputs": [],
   "source": [
    "pages = [page.json()]\n",
    "for i in range(2, 39, 1):\n",
    "    request = requests.get(f\"https://iphdata.lequipe.fr/iPhoneDatas/EFR/STD/ALL/V1/Football/CalendarList/CompetitionPhase/ligue-1/current/{i}e-journee.json\")\n",
    "    pages.append(request.json())"
   ]
  },
  {
   "cell_type": "code",
   "execution_count": 61,
   "metadata": {
    "ExecuteTime": {
     "end_time": "2021-06-25T09:16:31.887118Z",
     "start_time": "2021-06-25T09:16:31.879248Z"
    }
   },
   "outputs": [],
   "source": [
    "df_scrap = pd.DataFrame(columns=['City', 'Date', 'Hour', 'Winner', 'Home','HomeGoals', 'Visitor', 'VisitorGoals', 'Week', 'Web'])"
   ]
  },
  {
   "cell_type": "code",
   "execution_count": 62,
   "metadata": {
    "ExecuteTime": {
     "end_time": "2021-06-25T09:16:33.986052Z",
     "start_time": "2021-06-25T09:16:32.111847Z"
    }
   },
   "outputs": [],
   "source": [
    "count = 0\n",
    "for k in range(len(pages)):\n",
    "    count+=1\n",
    "    jpage = pages[k]\n",
    "    for i in range(len(jpage['items']) - 1):\n",
    "        for j in range (len(jpage['items'][i]['items'])):\n",
    "            event = jpage['items'][i]['items'][j]['event']\n",
    "            city_match = event['lieu']['ville']\n",
    "            date_match = event['date']\n",
    "            winner = event['specifics']['vainqueur']\n",
    "            visitor_team = event['specifics']['exterieur']['equipe']['nom']\n",
    "            home_team = event['specifics']['domicile']['equipe']['nom']\n",
    "            visitor_goals = event['specifics']['score']['exterieur']\n",
    "            home_goals = event['specifics']['score']['domicile']\n",
    "            link_web = event['lien_web']\n",
    "            df_scrap = df_scrap.append({'City' : city_match, 'Date' : date_match, 'Winner' : winner, 'Visitor' : visitor_team, 'Home' : home_team, 'VisitorGoals' : visitor_goals, 'HomeGoals' : home_goals, 'Week' : count, 'Web' : link_web}, ignore_index=True)"
   ]
  },
  {
   "cell_type": "code",
   "execution_count": 63,
   "metadata": {
    "ExecuteTime": {
     "end_time": "2021-06-25T09:16:34.001360Z",
     "start_time": "2021-06-25T09:16:33.988403Z"
    }
   },
   "outputs": [],
   "source": [
    "df_scrap['Date'] = [i.split('T') for i in df_scrap['Date']]\n",
    "df_scrap['Hour'] = [i[1] for i in df_scrap['Date']]\n",
    "df_scrap['Hour'] = [i.split('+') for i in df_scrap['Hour']]\n",
    "df_scrap['Hour'] = [i[0] for i in df_scrap['Hour']]\n",
    "df_scrap['Date'] = [i[0] for i in df_scrap['Date']]\n",
    "df_scrap['Date'] = df_scrap['Date'].str.replace(\"-\", \" \")\n",
    "df_scrap['Date'] = pd.to_datetime(df_scrap['Date'])\n",
    "df_scrap['Date'] = df_scrap['Date'].dt.strftime('%Y %m %d')"
   ]
  },
  {
   "cell_type": "code",
   "execution_count": 64,
   "metadata": {
    "ExecuteTime": {
     "end_time": "2021-06-25T09:16:36.975303Z",
     "start_time": "2021-06-25T09:16:36.954596Z"
    }
   },
   "outputs": [
    {
     "data": {
      "text/html": [
       "<div>\n",
       "<style scoped>\n",
       "    .dataframe tbody tr th:only-of-type {\n",
       "        vertical-align: middle;\n",
       "    }\n",
       "\n",
       "    .dataframe tbody tr th {\n",
       "        vertical-align: top;\n",
       "    }\n",
       "\n",
       "    .dataframe thead th {\n",
       "        text-align: right;\n",
       "    }\n",
       "</style>\n",
       "<table border=\"1\" class=\"dataframe\">\n",
       "  <thead>\n",
       "    <tr style=\"text-align: right;\">\n",
       "      <th></th>\n",
       "      <th>City</th>\n",
       "      <th>Date</th>\n",
       "      <th>Hour</th>\n",
       "      <th>Winner</th>\n",
       "      <th>Home</th>\n",
       "      <th>HomeGoals</th>\n",
       "      <th>Visitor</th>\n",
       "      <th>VisitorGoals</th>\n",
       "      <th>Week</th>\n",
       "      <th>Web</th>\n",
       "    </tr>\n",
       "  </thead>\n",
       "  <tbody>\n",
       "    <tr>\n",
       "      <th>0</th>\n",
       "      <td>Bordeaux</td>\n",
       "      <td>2020 08 21</td>\n",
       "      <td>19:00:00</td>\n",
       "      <td>ex-aequo</td>\n",
       "      <td>Bordeaux</td>\n",
       "      <td>0</td>\n",
       "      <td>Nantes</td>\n",
       "      <td>0</td>\n",
       "      <td>1</td>\n",
       "      <td>https://www.lequipe.fr/Football/match-direct/l...</td>\n",
       "    </tr>\n",
       "    <tr>\n",
       "      <th>1</th>\n",
       "      <td>Dijon</td>\n",
       "      <td>2020 08 22</td>\n",
       "      <td>17:00:00</td>\n",
       "      <td>exterieur</td>\n",
       "      <td>Dijon</td>\n",
       "      <td>0</td>\n",
       "      <td>Angers</td>\n",
       "      <td>1</td>\n",
       "      <td>1</td>\n",
       "      <td>https://www.lequipe.fr/Football/match-direct/l...</td>\n",
       "    </tr>\n",
       "    <tr>\n",
       "      <th>2</th>\n",
       "      <td>Lille</td>\n",
       "      <td>2020 08 22</td>\n",
       "      <td>21:00:00</td>\n",
       "      <td>ex-aequo</td>\n",
       "      <td>Lille</td>\n",
       "      <td>1</td>\n",
       "      <td>Rennes</td>\n",
       "      <td>1</td>\n",
       "      <td>1</td>\n",
       "      <td>https://www.lequipe.fr/Football/match-direct/l...</td>\n",
       "    </tr>\n",
       "    <tr>\n",
       "      <th>3</th>\n",
       "      <td>Monaco</td>\n",
       "      <td>2020 08 23</td>\n",
       "      <td>13:00:00</td>\n",
       "      <td>ex-aequo</td>\n",
       "      <td>Monaco</td>\n",
       "      <td>2</td>\n",
       "      <td>Reims</td>\n",
       "      <td>2</td>\n",
       "      <td>1</td>\n",
       "      <td>https://www.lequipe.fr/Football/match-direct/l...</td>\n",
       "    </tr>\n",
       "    <tr>\n",
       "      <th>4</th>\n",
       "      <td>Lorient</td>\n",
       "      <td>2020 08 23</td>\n",
       "      <td>15:00:00</td>\n",
       "      <td>domicile</td>\n",
       "      <td>Lorient</td>\n",
       "      <td>3</td>\n",
       "      <td>Strasbourg</td>\n",
       "      <td>1</td>\n",
       "      <td>1</td>\n",
       "      <td>https://www.lequipe.fr/Football/match-direct/l...</td>\n",
       "    </tr>\n",
       "    <tr>\n",
       "      <th>...</th>\n",
       "      <td>...</td>\n",
       "      <td>...</td>\n",
       "      <td>...</td>\n",
       "      <td>...</td>\n",
       "      <td>...</td>\n",
       "      <td>...</td>\n",
       "      <td>...</td>\n",
       "      <td>...</td>\n",
       "      <td>...</td>\n",
       "      <td>...</td>\n",
       "    </tr>\n",
       "    <tr>\n",
       "      <th>375</th>\n",
       "      <td>Rennes</td>\n",
       "      <td>2021 05 23</td>\n",
       "      <td>21:00:00</td>\n",
       "      <td>domicile</td>\n",
       "      <td>Rennes</td>\n",
       "      <td>2</td>\n",
       "      <td>Nîmes</td>\n",
       "      <td>0</td>\n",
       "      <td>38</td>\n",
       "      <td>https://www.lequipe.fr/Football/match-direct/l...</td>\n",
       "    </tr>\n",
       "    <tr>\n",
       "      <th>376</th>\n",
       "      <td>Nantes</td>\n",
       "      <td>2021 05 23</td>\n",
       "      <td>21:00:00</td>\n",
       "      <td>exterieur</td>\n",
       "      <td>Nantes</td>\n",
       "      <td>1</td>\n",
       "      <td>Montpellier</td>\n",
       "      <td>2</td>\n",
       "      <td>38</td>\n",
       "      <td>https://www.lequipe.fr/Football/match-direct/l...</td>\n",
       "    </tr>\n",
       "    <tr>\n",
       "      <th>377</th>\n",
       "      <td>Saint-Étienne</td>\n",
       "      <td>2021 05 23</td>\n",
       "      <td>21:00:00</td>\n",
       "      <td>exterieur</td>\n",
       "      <td>Saint-Étienne</td>\n",
       "      <td>0</td>\n",
       "      <td>Dijon</td>\n",
       "      <td>1</td>\n",
       "      <td>38</td>\n",
       "      <td>https://www.lequipe.fr/Football/match-direct/l...</td>\n",
       "    </tr>\n",
       "    <tr>\n",
       "      <th>378</th>\n",
       "      <td>Reims</td>\n",
       "      <td>2021 05 23</td>\n",
       "      <td>21:00:00</td>\n",
       "      <td>exterieur</td>\n",
       "      <td>Reims</td>\n",
       "      <td>1</td>\n",
       "      <td>Bordeaux</td>\n",
       "      <td>2</td>\n",
       "      <td>38</td>\n",
       "      <td>https://www.lequipe.fr/Football/match-direct/l...</td>\n",
       "    </tr>\n",
       "    <tr>\n",
       "      <th>379</th>\n",
       "      <td>Strasbourg</td>\n",
       "      <td>2021 05 23</td>\n",
       "      <td>21:00:00</td>\n",
       "      <td>ex-aequo</td>\n",
       "      <td>Strasbourg</td>\n",
       "      <td>1</td>\n",
       "      <td>Lorient</td>\n",
       "      <td>1</td>\n",
       "      <td>38</td>\n",
       "      <td>https://www.lequipe.fr/Football/match-direct/l...</td>\n",
       "    </tr>\n",
       "  </tbody>\n",
       "</table>\n",
       "<p>380 rows × 10 columns</p>\n",
       "</div>"
      ],
      "text/plain": [
       "              City        Date      Hour     Winner           Home HomeGoals  \\\n",
       "0         Bordeaux  2020 08 21  19:00:00   ex-aequo       Bordeaux         0   \n",
       "1            Dijon  2020 08 22  17:00:00  exterieur          Dijon         0   \n",
       "2            Lille  2020 08 22  21:00:00   ex-aequo          Lille         1   \n",
       "3           Monaco  2020 08 23  13:00:00   ex-aequo         Monaco         2   \n",
       "4          Lorient  2020 08 23  15:00:00   domicile        Lorient         3   \n",
       "..             ...         ...       ...        ...            ...       ...   \n",
       "375         Rennes  2021 05 23  21:00:00   domicile         Rennes         2   \n",
       "376         Nantes  2021 05 23  21:00:00  exterieur         Nantes         1   \n",
       "377  Saint-Étienne  2021 05 23  21:00:00  exterieur  Saint-Étienne         0   \n",
       "378          Reims  2021 05 23  21:00:00  exterieur          Reims         1   \n",
       "379     Strasbourg  2021 05 23  21:00:00   ex-aequo     Strasbourg         1   \n",
       "\n",
       "         Visitor VisitorGoals Week  \\\n",
       "0         Nantes            0    1   \n",
       "1         Angers            1    1   \n",
       "2         Rennes            1    1   \n",
       "3          Reims            2    1   \n",
       "4     Strasbourg            1    1   \n",
       "..           ...          ...  ...   \n",
       "375        Nîmes            0   38   \n",
       "376  Montpellier            2   38   \n",
       "377        Dijon            1   38   \n",
       "378     Bordeaux            2   38   \n",
       "379      Lorient            1   38   \n",
       "\n",
       "                                                   Web  \n",
       "0    https://www.lequipe.fr/Football/match-direct/l...  \n",
       "1    https://www.lequipe.fr/Football/match-direct/l...  \n",
       "2    https://www.lequipe.fr/Football/match-direct/l...  \n",
       "3    https://www.lequipe.fr/Football/match-direct/l...  \n",
       "4    https://www.lequipe.fr/Football/match-direct/l...  \n",
       "..                                                 ...  \n",
       "375  https://www.lequipe.fr/Football/match-direct/l...  \n",
       "376  https://www.lequipe.fr/Football/match-direct/l...  \n",
       "377  https://www.lequipe.fr/Football/match-direct/l...  \n",
       "378  https://www.lequipe.fr/Football/match-direct/l...  \n",
       "379  https://www.lequipe.fr/Football/match-direct/l...  \n",
       "\n",
       "[380 rows x 10 columns]"
      ]
     },
     "execution_count": 64,
     "metadata": {},
     "output_type": "execute_result"
    }
   ],
   "source": [
    "df_scrap"
   ]
  },
  {
   "cell_type": "code",
   "execution_count": 65,
   "metadata": {
    "ExecuteTime": {
     "end_time": "2021-06-25T09:17:43.706728Z",
     "start_time": "2021-06-25T09:17:43.696172Z"
    }
   },
   "outputs": [],
   "source": [
    "df_match = df_scrap[['City', 'Date', 'Hour']]\n",
    "df_home_team = df_scrap[['Home', 'HomeGoals']]\n",
    "df_visitor_team = df_scrap[['Visitor', 'VisitorGoals']]"
   ]
  },
  {
   "cell_type": "code",
   "execution_count": 66,
   "metadata": {
    "ExecuteTime": {
     "end_time": "2021-06-25T09:29:08.362631Z",
     "start_time": "2021-06-25T09:17:48.388369Z"
    }
   },
   "outputs": [],
   "source": [
    "for i in range(len(df_match)):\n",
    "    time.sleep(0.5)\n",
    "    place = df_match.loc[i]['City']\n",
    "    date = df_match.loc[i]['Date']\n",
    "    hour = df_match.loc[i]['Hour']\n",
    "    date = date.replace(\"-\",\" \")\n",
    "    #print(date,place,hour)\n",
    "    link_weather = functions.create_link_weather(place, date)\n",
    "    #print(link_weather)\n",
    "    tmax, rainfall = functions.scrapmeteo(link_weather)\n",
    "    match_id = database.insert_table_matches(championship_id,date,place,rainfall,tmax)\n",
    "\n",
    "    #matches_teams Dom\n",
    "    name_city = df_home_team.loc[i]['Home']\n",
    "    team_goal = df_home_team.loc[i]['HomeGoals']\n",
    "    home=True\n",
    "    team_id = database.get_team_id(name_city)\n",
    "    #print(match_id, team_id, home, team_goal)\n",
    "    database.insert_table_matches_teams(match_id, team_id, home, team_goal)\n",
    "        \n",
    "    #matches_teams Ext\n",
    "    name_city = df_visitor_team.loc[i]['Visitor']\n",
    "    team_goal = df_visitor_team.loc[i]['VisitorGoals']\n",
    "    home=False\n",
    "    team_id = database.get_team_id(name_city)\n",
    "    #print(match_id, team_id, home, team_goal)\n",
    "    database.insert_table_matches_teams(match_id, team_id, home, team_goal)\n",
    "        \n",
    "    #goals\n",
    "    page = requests.get(df_scrap.loc[i]['Web'])\n",
    "    soup = BeautifulSoup(page.text, 'html.parser')\n",
    "    goalers = soup.find_all(\"span\", {\"class\": \"Scoreboard__scorer\"})\n",
    "    for j in range(len(goalers)):\n",
    "        goal_type = soup.find_all(\"div\", {\"class\": \"Scoreboard__goals\"})\n",
    "        goal_type = goal_type[j].find_all('span')\n",
    "        if ((goal_type[0].text or goal_type[2].text) != '(csc)' and (goal_type[0].text or goal_type[2].text) != '(s.p.)'):\n",
    "            #print(f'Journée : {df_scrap.loc[i].Week}, Buteur : {goalers[j].text}, type : but')\n",
    "            player_name = goalers[j].text.replace(\" \",\"\")\n",
    "            #print(player_name)\n",
    "            player_id = database.get_player_id(player_name)\n",
    "            goal_type = \"normal\"\n",
    "            database.insert_table_goals(player_id, match_id, goal_type)                \n",
    "        elif ((goal_type[0].text or goal_type[2].text) == '(s.p.)'):\n",
    "            #print(f'Journée : {df_scrap.loc[i].Week}, Buteur : {goalers[j].text}, type : penalty')\n",
    "            player_name = goalers[j].text.replace(\" \",\"\")\n",
    "            #print(player_name)\n",
    "            player_id = database.get_player_id(player_name)\n",
    "            goal_type = \"penalty\"\n",
    "            database.insert_table_goals(player_id, match_id, goal_type)\n",
    "        else:\n",
    "            #print(f'Journée : {df_scrap.loc[i].Week}, Buteur : {goalers[j].text}, type : contre son camp')\n",
    "            player_name = goalers[j].text.replace(\" \",\"\")\n",
    "            #print(player_name)\n",
    "            player_id = database.get_player_id(player_name)\n",
    "            goal_type = \"contre son camp\"\n",
    "            database.insert_table_goals(player_id, match_id, goal_type)"
   ]
  }
 ],
 "metadata": {
  "kernelspec": {
   "display_name": "Python 3",
   "language": "python",
   "name": "python3"
  },
  "language_info": {
   "codemirror_mode": {
    "name": "ipython",
    "version": 3
   },
   "file_extension": ".py",
   "mimetype": "text/x-python",
   "name": "python",
   "nbconvert_exporter": "python",
   "pygments_lexer": "ipython3",
   "version": "3.8.5"
  },
  "latex_envs": {
   "LaTeX_envs_menu_present": true,
   "autoclose": false,
   "autocomplete": true,
   "bibliofile": "biblio.bib",
   "cite_by": "apalike",
   "current_citInitial": 1,
   "eqLabelWithNumbers": true,
   "eqNumInitial": 1,
   "hotkeys": {
    "equation": "Ctrl-E",
    "itemize": "Ctrl-I"
   },
   "labels_anchors": false,
   "latex_user_defs": false,
   "report_style_numbering": false,
   "user_envs_cfg": false
  },
  "toc": {
   "base_numbering": 1,
   "nav_menu": {},
   "number_sections": true,
   "sideBar": true,
   "skip_h1_title": false,
   "title_cell": "Table of Contents",
   "title_sidebar": "Contents",
   "toc_cell": false,
   "toc_position": {},
   "toc_section_display": true,
   "toc_window_display": false
  }
 },
 "nbformat": 4,
 "nbformat_minor": 5
}
