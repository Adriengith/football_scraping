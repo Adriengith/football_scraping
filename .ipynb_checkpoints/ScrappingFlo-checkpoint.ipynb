{
 "cells": [
  {
   "cell_type": "code",
   "execution_count": 1,
   "metadata": {
    "ExecuteTime": {
     "end_time": "2021-06-24T12:21:57.237401Z",
     "start_time": "2021-06-24T12:21:56.456605Z"
    }
   },
   "outputs": [],
   "source": [
    "import pandas as pd\n",
    "import requests\n",
    "import json\n",
    "from bs4 import BeautifulSoup\n",
    "import re"
   ]
  },
  {
   "cell_type": "code",
   "execution_count": 2,
   "metadata": {
    "ExecuteTime": {
     "end_time": "2021-06-24T12:21:57.415830Z",
     "start_time": "2021-06-24T12:21:57.240669Z"
    }
   },
   "outputs": [],
   "source": [
    "page = requests.get('https://iphdata.lequipe.fr/iPhoneDatas/EFR/STD/ALL/V1/Football/CalendarList/CompetitionPhase/ligue-1/saison-2018-2019/1ere-journee.json')"
   ]
  },
  {
   "cell_type": "code",
   "execution_count": 3,
   "metadata": {
    "ExecuteTime": {
     "end_time": "2021-06-24T12:22:01.353529Z",
     "start_time": "2021-06-24T12:21:57.417987Z"
    }
   },
   "outputs": [],
   "source": [
    "pages = [page.json()]\n",
    "for i in range(2, 39, 1):\n",
    "    request = requests.get(f\"https://iphdata.lequipe.fr/iPhoneDatas/EFR/STD/ALL/V1/Football/CalendarList/CompetitionPhase/ligue-1/saison-2018-2019/{i}e-journee.json\")\n",
    "    pages.append(request.json())"
   ]
  },
  {
   "cell_type": "code",
   "execution_count": 4,
   "metadata": {
    "ExecuteTime": {
     "end_time": "2021-06-24T12:22:01.364362Z",
     "start_time": "2021-06-24T12:22:01.356162Z"
    }
   },
   "outputs": [],
   "source": [
    "df_scrap = pd.DataFrame(columns=['City', 'Date', 'Hour', 'Winner', 'Home','HomeGoals', 'Visitor', 'VisitorGoals', 'Week', 'Web'])"
   ]
  },
  {
   "cell_type": "code",
   "execution_count": 5,
   "metadata": {
    "ExecuteTime": {
     "end_time": "2021-06-24T12:22:03.131983Z",
     "start_time": "2021-06-24T12:22:01.366931Z"
    }
   },
   "outputs": [],
   "source": [
    "count = 0\n",
    "for k in range(len(pages)):\n",
    "    count+=1\n",
    "    jpage = pages[k]\n",
    "    for i in range(len(jpage['items']) - 1):\n",
    "        for j in range (len(jpage['items'][i]['items'])):\n",
    "            city_match = jpage['items'][i]['items'][j]['event']['lieu']['ville']\n",
    "            date_match = jpage['items'][i]['items'][j]['event']['date']\n",
    "            winner = jpage['items'][i]['items'][j]['event']['specifics']['vainqueur']\n",
    "            visitor_team = jpage['items'][i]['items'][j]['event']['specifics']['exterieur']['equipe']['nom']\n",
    "            home_team = jpage['items'][i]['items'][j]['event']['specifics']['domicile']['equipe']['nom']\n",
    "            visitor_goals = jpage['items'][i]['items'][j]['event']['specifics']['score']['exterieur']\n",
    "            home_goals = jpage['items'][i]['items'][j]['event']['specifics']['score']['domicile']\n",
    "            link_web = jpage['items'][i]['items'][j]['event']['lien_web']\n",
    "            df_scrap = df_scrap.append({'City' : city_match, 'Date' : date_match, 'Winner' : winner, 'Visitor' : visitor_team, 'Home' : home_team, 'VisitorGoals' : visitor_goals, 'HomeGoals' : home_goals, 'Week' : count, 'Web' : link_web}, ignore_index=True)"
   ]
  },
  {
   "cell_type": "code",
   "execution_count": 6,
   "metadata": {
    "ExecuteTime": {
     "end_time": "2021-06-24T12:22:03.140871Z",
     "start_time": "2021-06-24T12:22:03.134287Z"
    }
   },
   "outputs": [],
   "source": [
    "df_scrap['Date'] = df_scrap['Date'].str.split('T')\n",
    "df_scrap['Hour'] = df_scrap['Date'][0][1]\n",
    "df_scrap['Date'] = df_scrap['Date'][0][0]\n",
    "df_scrap['Hour'] = df_scrap['Hour'].str.split('+')\n",
    "df_scrap['Hour'] = df_scrap['Hour'][0][0]"
   ]
  },
  {
   "cell_type": "code",
   "execution_count": 7,
   "metadata": {
    "ExecuteTime": {
     "end_time": "2021-06-24T12:22:03.169091Z",
     "start_time": "2021-06-24T12:22:03.144979Z"
    }
   },
   "outputs": [
    {
     "data": {
      "text/html": [
       "<div>\n",
       "<style scoped>\n",
       "    .dataframe tbody tr th:only-of-type {\n",
       "        vertical-align: middle;\n",
       "    }\n",
       "\n",
       "    .dataframe tbody tr th {\n",
       "        vertical-align: top;\n",
       "    }\n",
       "\n",
       "    .dataframe thead th {\n",
       "        text-align: right;\n",
       "    }\n",
       "</style>\n",
       "<table border=\"1\" class=\"dataframe\">\n",
       "  <thead>\n",
       "    <tr style=\"text-align: right;\">\n",
       "      <th></th>\n",
       "      <th>City</th>\n",
       "      <th>Date</th>\n",
       "      <th>Hour</th>\n",
       "      <th>Winner</th>\n",
       "      <th>Home</th>\n",
       "      <th>HomeGoals</th>\n",
       "      <th>Visitor</th>\n",
       "      <th>VisitorGoals</th>\n",
       "      <th>Week</th>\n",
       "      <th>Web</th>\n",
       "    </tr>\n",
       "  </thead>\n",
       "  <tbody>\n",
       "    <tr>\n",
       "      <th>0</th>\n",
       "      <td>Marseille</td>\n",
       "      <td>2018-08-10</td>\n",
       "      <td>20:45:00</td>\n",
       "      <td>domicile</td>\n",
       "      <td>Marseille</td>\n",
       "      <td>4</td>\n",
       "      <td>Toulouse</td>\n",
       "      <td>0</td>\n",
       "      <td>1</td>\n",
       "      <td>https://www.lequipe.fr/Football/match-direct/l...</td>\n",
       "    </tr>\n",
       "    <tr>\n",
       "      <th>1</th>\n",
       "      <td>Nantes</td>\n",
       "      <td>2018-08-10</td>\n",
       "      <td>20:45:00</td>\n",
       "      <td>exterieur</td>\n",
       "      <td>Nantes</td>\n",
       "      <td>1</td>\n",
       "      <td>Monaco</td>\n",
       "      <td>3</td>\n",
       "      <td>1</td>\n",
       "      <td>https://www.lequipe.fr/Football/match-direct/l...</td>\n",
       "    </tr>\n",
       "    <tr>\n",
       "      <th>2</th>\n",
       "      <td>Lille</td>\n",
       "      <td>2018-08-10</td>\n",
       "      <td>20:45:00</td>\n",
       "      <td>domicile</td>\n",
       "      <td>Lille</td>\n",
       "      <td>3</td>\n",
       "      <td>Rennes</td>\n",
       "      <td>1</td>\n",
       "      <td>1</td>\n",
       "      <td>https://www.lequipe.fr/Football/match-direct/l...</td>\n",
       "    </tr>\n",
       "    <tr>\n",
       "      <th>3</th>\n",
       "      <td>Saint-Étienne</td>\n",
       "      <td>2018-08-10</td>\n",
       "      <td>20:45:00</td>\n",
       "      <td>domicile</td>\n",
       "      <td>Saint-Étienne</td>\n",
       "      <td>2</td>\n",
       "      <td>Guingamp</td>\n",
       "      <td>1</td>\n",
       "      <td>1</td>\n",
       "      <td>https://www.lequipe.fr/Football/match-direct/l...</td>\n",
       "    </tr>\n",
       "    <tr>\n",
       "      <th>4</th>\n",
       "      <td>Angers</td>\n",
       "      <td>2018-08-10</td>\n",
       "      <td>20:45:00</td>\n",
       "      <td>exterieur</td>\n",
       "      <td>Angers</td>\n",
       "      <td>3</td>\n",
       "      <td>Nîmes</td>\n",
       "      <td>4</td>\n",
       "      <td>1</td>\n",
       "      <td>https://www.lequipe.fr/Football/match-direct/l...</td>\n",
       "    </tr>\n",
       "    <tr>\n",
       "      <th>...</th>\n",
       "      <td>...</td>\n",
       "      <td>...</td>\n",
       "      <td>...</td>\n",
       "      <td>...</td>\n",
       "      <td>...</td>\n",
       "      <td>...</td>\n",
       "      <td>...</td>\n",
       "      <td>...</td>\n",
       "      <td>...</td>\n",
       "      <td>...</td>\n",
       "    </tr>\n",
       "    <tr>\n",
       "      <th>375</th>\n",
       "      <td>Nice</td>\n",
       "      <td>2018-08-10</td>\n",
       "      <td>20:45:00</td>\n",
       "      <td>domicile</td>\n",
       "      <td>Nice</td>\n",
       "      <td>2</td>\n",
       "      <td>Monaco</td>\n",
       "      <td>0</td>\n",
       "      <td>38</td>\n",
       "      <td>https://www.lequipe.fr/Football/match-direct/l...</td>\n",
       "    </tr>\n",
       "    <tr>\n",
       "      <th>376</th>\n",
       "      <td>Nantes</td>\n",
       "      <td>2018-08-10</td>\n",
       "      <td>20:45:00</td>\n",
       "      <td>exterieur</td>\n",
       "      <td>Nantes</td>\n",
       "      <td>0</td>\n",
       "      <td>Strasbourg</td>\n",
       "      <td>1</td>\n",
       "      <td>38</td>\n",
       "      <td>https://www.lequipe.fr/Football/match-direct/l...</td>\n",
       "    </tr>\n",
       "    <tr>\n",
       "      <th>377</th>\n",
       "      <td>Caen</td>\n",
       "      <td>2018-08-10</td>\n",
       "      <td>20:45:00</td>\n",
       "      <td>exterieur</td>\n",
       "      <td>Caen</td>\n",
       "      <td>0</td>\n",
       "      <td>Bordeaux</td>\n",
       "      <td>1</td>\n",
       "      <td>38</td>\n",
       "      <td>https://www.lequipe.fr/Football/match-direct/l...</td>\n",
       "    </tr>\n",
       "    <tr>\n",
       "      <th>378</th>\n",
       "      <td>Dijon</td>\n",
       "      <td>2018-08-10</td>\n",
       "      <td>20:45:00</td>\n",
       "      <td>domicile</td>\n",
       "      <td>Dijon</td>\n",
       "      <td>2</td>\n",
       "      <td>Toulouse</td>\n",
       "      <td>1</td>\n",
       "      <td>38</td>\n",
       "      <td>https://www.lequipe.fr/Football/match-direct/l...</td>\n",
       "    </tr>\n",
       "    <tr>\n",
       "      <th>379</th>\n",
       "      <td>Amiens</td>\n",
       "      <td>2018-08-10</td>\n",
       "      <td>20:45:00</td>\n",
       "      <td>domicile</td>\n",
       "      <td>Amiens</td>\n",
       "      <td>2</td>\n",
       "      <td>Guingamp</td>\n",
       "      <td>1</td>\n",
       "      <td>38</td>\n",
       "      <td>https://www.lequipe.fr/Football/match-direct/l...</td>\n",
       "    </tr>\n",
       "  </tbody>\n",
       "</table>\n",
       "<p>380 rows × 10 columns</p>\n",
       "</div>"
      ],
      "text/plain": [
       "              City        Date      Hour     Winner           Home HomeGoals  \\\n",
       "0        Marseille  2018-08-10  20:45:00   domicile      Marseille         4   \n",
       "1           Nantes  2018-08-10  20:45:00  exterieur         Nantes         1   \n",
       "2            Lille  2018-08-10  20:45:00   domicile          Lille         3   \n",
       "3    Saint-Étienne  2018-08-10  20:45:00   domicile  Saint-Étienne         2   \n",
       "4           Angers  2018-08-10  20:45:00  exterieur         Angers         3   \n",
       "..             ...         ...       ...        ...            ...       ...   \n",
       "375           Nice  2018-08-10  20:45:00   domicile           Nice         2   \n",
       "376         Nantes  2018-08-10  20:45:00  exterieur         Nantes         0   \n",
       "377           Caen  2018-08-10  20:45:00  exterieur           Caen         0   \n",
       "378          Dijon  2018-08-10  20:45:00   domicile          Dijon         2   \n",
       "379         Amiens  2018-08-10  20:45:00   domicile         Amiens         2   \n",
       "\n",
       "        Visitor VisitorGoals Week  \\\n",
       "0      Toulouse            0    1   \n",
       "1        Monaco            3    1   \n",
       "2        Rennes            1    1   \n",
       "3      Guingamp            1    1   \n",
       "4         Nîmes            4    1   \n",
       "..          ...          ...  ...   \n",
       "375      Monaco            0   38   \n",
       "376  Strasbourg            1   38   \n",
       "377    Bordeaux            1   38   \n",
       "378    Toulouse            1   38   \n",
       "379    Guingamp            1   38   \n",
       "\n",
       "                                                   Web  \n",
       "0    https://www.lequipe.fr/Football/match-direct/l...  \n",
       "1    https://www.lequipe.fr/Football/match-direct/l...  \n",
       "2    https://www.lequipe.fr/Football/match-direct/l...  \n",
       "3    https://www.lequipe.fr/Football/match-direct/l...  \n",
       "4    https://www.lequipe.fr/Football/match-direct/l...  \n",
       "..                                                 ...  \n",
       "375  https://www.lequipe.fr/Football/match-direct/l...  \n",
       "376  https://www.lequipe.fr/Football/match-direct/l...  \n",
       "377  https://www.lequipe.fr/Football/match-direct/l...  \n",
       "378  https://www.lequipe.fr/Football/match-direct/l...  \n",
       "379  https://www.lequipe.fr/Football/match-direct/l...  \n",
       "\n",
       "[380 rows x 10 columns]"
      ]
     },
     "execution_count": 7,
     "metadata": {},
     "output_type": "execute_result"
    }
   ],
   "source": [
    "df_scrap"
   ]
  },
  {
   "cell_type": "code",
   "execution_count": 8,
   "metadata": {
    "ExecuteTime": {
     "end_time": "2021-06-24T12:22:03.177067Z",
     "start_time": "2021-06-24T12:22:03.171195Z"
    }
   },
   "outputs": [],
   "source": [
    "df_match = df_scrap[['City', 'Date', 'Hour']]\n",
    "df_home_team = df_scrap[['Home', 'HomeGoals']]\n",
    "df_visitor_team = df_scrap[['Visitor', 'VisitorGoals']]"
   ]
  },
  {
   "cell_type": "code",
   "execution_count": 9,
   "metadata": {
    "ExecuteTime": {
     "end_time": "2021-06-24T12:22:03.308362Z",
     "start_time": "2021-06-24T12:22:03.179172Z"
    }
   },
   "outputs": [],
   "source": [
    "for i in range(len(df_match)):\n",
    "    place = df_match.loc[i]['City']\n",
    "    date = df_match.loc[i]['Date']\n",
    "    hour = df_match.loc[i]['Hour']\n",
    "    #INSERT INTO table (place, date, hour) VALUES (place, date, hour)"
   ]
  },
  {
   "cell_type": "code",
   "execution_count": 10,
   "metadata": {
    "ExecuteTime": {
     "end_time": "2021-06-24T12:22:03.396310Z",
     "start_time": "2021-06-24T12:22:03.310610Z"
    }
   },
   "outputs": [],
   "source": [
    "for i in range(len(df_home_team)):  #matches_teams Dom\n",
    "    name_city = df_home_team.loc[i]['Home']\n",
    "    team_goal = df_home_team.loc[i]['HomeGoals']\n",
    "    #INSERT INTO table (name_city, home, team_goal) VALUES (name_city, 'True', team_goal)"
   ]
  },
  {
   "cell_type": "code",
   "execution_count": 11,
   "metadata": {
    "ExecuteTime": {
     "end_time": "2021-06-24T12:22:03.477664Z",
     "start_time": "2021-06-24T12:22:03.398311Z"
    }
   },
   "outputs": [],
   "source": [
    "for i in range(len(df_visitor_team)): #matches_teams Ext\n",
    "    name_city = df_visitor_team.loc[i]['Visitor']\n",
    "    team_goal = df_visitor_team.loc[i]['VisitorGoals']\n",
    "    #INSERT INTO table (name_city, home, team_goal) VALUES (name_city, 'False', team_goal)"
   ]
  },
  {
   "cell_type": "code",
   "execution_count": 15,
   "metadata": {
    "ExecuteTime": {
     "end_time": "2021-06-24T12:55:09.043850Z",
     "start_time": "2021-06-24T12:54:56.474467Z"
    }
   },
   "outputs": [
    {
     "name": "stdout",
     "output_type": "stream",
     "text": [
      "{'D. Payet': '(s.p.)'}\n",
      "{'D. Payet': ''}\n",
      "{'D. Payet': '', 'V. Germain': ''}\n",
      "{'D. Payet': '', 'V. Germain': '', 'F. Thauvin': ''}\n",
      "{'D. Payet': '', 'V. Germain': '', 'F. Thauvin': '', 'E. Sala': ''}\n",
      "{'D. Payet': '', 'V. Germain': '', 'F. Thauvin': '', 'E. Sala': '', 'R. Lopes': ''}\n",
      "{'D. Payet': '', 'V. Germain': '', 'F. Thauvin': '', 'E. Sala': '', 'R. Lopes': '', 'S. Jovetic': ''}\n",
      "{'D. Payet': '', 'V. Germain': '', 'F. Thauvin': '', 'E. Sala': '', 'R. Lopes': '', 'S. Jovetic': '', 'R. Falcao': ''}\n",
      "{'D. Payet': '', 'V. Germain': '', 'F. Thauvin': '', 'E. Sala': '', 'R. Lopes': '', 'S. Jovetic': '', 'R. Falcao': '', 'L. Mothiba': ''}\n",
      "{'D. Payet': '', 'V. Germain': '', 'F. Thauvin': '', 'E. Sala': '', 'R. Lopes': '', 'S. Jovetic': '', 'R. Falcao': '', 'L. Mothiba': '', 'N. Pépé': ''}\n",
      "{'D. Payet': '', 'V. Germain': '', 'F. Thauvin': '', 'E. Sala': '', 'R. Lopes': '', 'S. Jovetic': '', 'R. Falcao': '', 'L. Mothiba': '', 'N. Pépé': '', 'J. Bamba': ''}\n",
      "{'D. Payet': '', 'V. Germain': '', 'F. Thauvin': '', 'E. Sala': '', 'R. Lopes': '', 'S. Jovetic': '', 'R. Falcao': '', 'L. Mothiba': '', 'N. Pépé': '', 'J. Bamba': '', 'C. Grenier': ''}\n",
      "{'D. Payet': '', 'V. Germain': '', 'F. Thauvin': '', 'E. Sala': '', 'R. Lopes': '', 'S. Jovetic': '', 'R. Falcao': '', 'L. Mothiba': '', 'N. Pépé': '', 'J. Bamba': '', 'C. Grenier': '', 'W. Khazri': ''}\n",
      "{'D. Payet': '', 'V. Germain': '', 'F. Thauvin': '', 'E. Sala': '', 'R. Lopes': '', 'S. Jovetic': '', 'R. Falcao': '', 'L. Mothiba': '', 'N. Pépé': '', 'J. Bamba': '', 'C. Grenier': '', 'W. Khazri': '', 'L. Diony': ''}\n",
      "{'D. Payet': '', 'V. Germain': '', 'F. Thauvin': '', 'E. Sala': '', 'R. Lopes': '', 'S. Jovetic': '', 'R. Falcao': '', 'L. Mothiba': '', 'N. Pépé': '', 'J. Bamba': '', 'C. Grenier': '', 'W. Khazri': '', 'L. Diony': '', 'M. Thuram': ''}\n",
      "{'D. Payet': '', 'V. Germain': '', 'F. Thauvin': '', 'E. Sala': '', 'R. Lopes': '', 'S. Jovetic': '', 'R. Falcao': '', 'L. Mothiba': '', 'N. Pépé': '', 'J. Bamba': '', 'C. Grenier': '', 'W. Khazri': '', 'L. Diony': '', 'M. Thuram': '', 'P. Capelle': ''}\n",
      "{'D. Payet': '', 'V. Germain': '', 'F. Thauvin': '', 'E. Sala': '', 'R. Lopes': '', 'S. Jovetic': '', 'R. Falcao': '', 'L. Mothiba': '', 'N. Pépé': '', 'J. Bamba': '', 'C. Grenier': '', 'W. Khazri': '', 'L. Diony': '', 'M. Thuram': '', 'P. Capelle': '', 'A. Fulgini': ''}\n",
      "{'D. Payet': '', 'V. Germain': '', 'F. Thauvin': '', 'E. Sala': '', 'R. Lopes': '', 'S. Jovetic': '', 'R. Falcao': '', 'L. Mothiba': '', 'N. Pépé': '', 'J. Bamba': '', 'C. Grenier': '', 'W. Khazri': '', 'L. Diony': '', 'M. Thuram': '', 'P. Capelle': '', 'A. Fulgini': '', 'I. Traoré': ''}\n",
      "{'D. Payet': '', 'V. Germain': '', 'F. Thauvin': '', 'E. Sala': '', 'R. Lopes': '', 'S. Jovetic': '', 'R. Falcao': '', 'L. Mothiba': '', 'N. Pépé': '', 'J. Bamba': '', 'C. Grenier': '', 'W. Khazri': '', 'L. Diony': '', 'M. Thuram': '', 'P. Capelle': '', 'A. Fulgini': '', 'I. Traoré': '', 'S. Thioub': ''}\n",
      "{'D. Payet': '', 'V. Germain': '', 'F. Thauvin': '', 'E. Sala': '', 'R. Lopes': '', 'S. Jovetic': '', 'R. Falcao': '', 'L. Mothiba': '', 'N. Pépé': '', 'J. Bamba': '', 'C. Grenier': '', 'W. Khazri': '', 'L. Diony': '', 'M. Thuram': '', 'P. Capelle': '', 'A. Fulgini': '', 'I. Traoré': '', 'S. Thioub': '', 'C. Depres': ''}\n",
      "{'D. Payet': '', 'V. Germain': '', 'F. Thauvin': '', 'E. Sala': '', 'R. Lopes': '', 'S. Jovetic': '', 'R. Falcao': '', 'L. Mothiba': '', 'N. Pépé': '', 'J. Bamba': '', 'C. Grenier': '', 'W. Khazri': '', 'L. Diony': '', 'M. Thuram': '', 'P. Capelle': '', 'A. Fulgini': '', 'I. Traoré': '', 'S. Thioub': '', 'C. Depres': '', 'R. Ripart': ''}\n",
      "{'D. Payet': '', 'V. Germain': '', 'F. Thauvin': '', 'E. Sala': '', 'R. Lopes': '', 'S. Jovetic': '', 'R. Falcao': '', 'L. Mothiba': '', 'N. Pépé': '', 'J. Bamba': '', 'C. Grenier': '', 'W. Khazri': '', 'L. Diony': '', 'M. Thuram': '', 'P. Capelle': '', 'A. Fulgini': '', 'I. Traoré': '', 'S. Thioub': '', 'C. Depres': '', 'R. Ripart': '', 'R. Thomas': ''}\n",
      "{'D. Payet': '', 'V. Germain': '', 'F. Thauvin': '', 'E. Sala': '', 'R. Lopes': '', 'S. Jovetic': '', 'R. Falcao': '', 'L. Mothiba': '', 'N. Pépé': '', 'J. Bamba': '', 'C. Grenier': '', 'W. Khazri': '', 'L. Diony': '', 'M. Thuram': '', 'P. Capelle': '', 'A. Fulgini': '', 'I. Traoré': '', 'S. Thioub': '', 'C. Depres': '', 'R. Ripart': '', 'R. Thomas': '', 'P. Mendes': ''}\n",
      "{'D. Payet': '', 'V. Germain': '', 'F. Thauvin': '', 'E. Sala': '', 'R. Lopes': '', 'S. Jovetic': '', 'R. Falcao': '', 'L. Mothiba': '', 'N. Pépé': '', 'J. Bamba': '', 'C. Grenier': '', 'W. Khazri': '', 'L. Diony': '', 'M. Thuram': '', 'P. Capelle': '', 'A. Fulgini': '', 'I. Traoré': '', 'S. Thioub': '', 'C. Depres': '', 'R. Ripart': '', 'R. Thomas': '', 'P. Mendes': '', 'J. Tavares': ''}\n",
      "{'D. Payet': '', 'V. Germain': '', 'F. Thauvin': '', 'E. Sala': '', 'R. Lopes': '', 'S. Jovetic': '', 'R. Falcao': '', 'L. Mothiba': '', 'N. Pépé': '', 'J. Bamba': '', 'C. Grenier': '', 'W. Khazri': '', 'L. Diony': '', 'M. Thuram': '', 'P. Capelle': '', 'A. Fulgini': '', 'I. Traoré': '', 'S. Thioub': '', 'C. Depres': '', 'R. Ripart': '', 'R. Thomas': '', 'P. Mendes': '', 'J. Tavares': '', 'S. Coulibaly': ''}\n",
      "{'D. Payet': '', 'V. Germain': '', 'F. Thauvin': '', 'E. Sala': '', 'R. Lopes': '', 'S. Jovetic': '', 'R. Falcao': '', 'L. Mothiba': '', 'N. Pépé': '', 'J. Bamba': '', 'C. Grenier': '', 'W. Khazri': '', 'L. Diony': '', 'M. Thuram': '', 'P. Capelle': '', 'A. Fulgini': '', 'I. Traoré': '', 'S. Thioub': '', 'C. Depres': '', 'R. Ripart': '', 'R. Thomas': '', 'P. Mendes': '', 'J. Tavares': '', 'S. Coulibaly': '', 'M. Doumbia': ''}\n",
      "{'D. Payet': '', 'V. Germain': '', 'F. Thauvin': '', 'E. Sala': '', 'R. Lopes': '', 'S. Jovetic': '', 'R. Falcao': '', 'L. Mothiba': '', 'N. Pépé': '', 'J. Bamba': '', 'C. Grenier': '', 'W. Khazri': '', 'L. Diony': '', 'M. Thuram': '', 'P. Capelle': '', 'A. Fulgini': '', 'I. Traoré': '', 'S. Thioub': '', 'C. Depres': '', 'R. Ripart': '', 'R. Thomas': '', 'P. Mendes': '', 'J. Tavares': '', 'S. Coulibaly': '', 'M. Doumbia': '', 'B. Traoré': ''}\n",
      "{'D. Payet': '', 'V. Germain': '', 'F. Thauvin': '', 'E. Sala': '', 'R. Lopes': '', 'S. Jovetic': '', 'R. Falcao': '', 'L. Mothiba': '', 'N. Pépé': '', 'J. Bamba': '', 'C. Grenier': '', 'W. Khazri': '', 'L. Diony': '', 'M. Thuram': '', 'P. Capelle': '', 'A. Fulgini': '', 'I. Traoré': '', 'S. Thioub': '', 'C. Depres': '', 'R. Ripart': '', 'R. Thomas': '', 'P. Mendes': '', 'J. Tavares': '', 'S. Coulibaly': '', 'M. Doumbia': '', 'B. Traoré': '', 'M. Depay': ''}\n",
      "{'D. Payet': '', 'V. Germain': '', 'F. Thauvin': '', 'E. Sala': '', 'R. Lopes': '', 'S. Jovetic': '', 'R. Falcao': '', 'L. Mothiba': '', 'N. Pépé': '', 'J. Bamba': '', 'C. Grenier': '', 'W. Khazri': '', 'L. Diony': '', 'M. Thuram': '', 'P. Capelle': '', 'A. Fulgini': '', 'I. Traoré': '', 'S. Thioub': '', 'C. Depres': '', 'R. Ripart': '', 'R. Thomas': '', 'P. Mendes': '', 'J. Tavares': '', 'S. Coulibaly': '', 'M. Doumbia': '', 'B. Traoré': '', 'M. Depay': '', 'I. Sissoko': ''}\n",
      "{'D. Payet': '', 'V. Germain': '', 'F. Thauvin': '', 'E. Sala': '', 'R. Lopes': '', 'S. Jovetic': '', 'R. Falcao': '', 'L. Mothiba': '', 'N. Pépé': '', 'J. Bamba': '', 'C. Grenier': '', 'W. Khazri': '', 'L. Diony': '', 'M. Thuram': '', 'P. Capelle': '', 'A. Fulgini': '', 'I. Traoré': '', 'S. Thioub': '', 'C. Depres': '', 'R. Ripart': '', 'R. Thomas': '', 'P. Mendes': '', 'J. Tavares': '', 'S. Coulibaly': '', 'M. Doumbia': '', 'B. Traoré': '', 'M. Depay': '', 'I. Sissoko': '', 'N. Da Costa': ''}\n",
      "{'D. Payet': '', 'V. Germain': '', 'F. Thauvin': '', 'E. Sala': '', 'R. Lopes': '', 'S. Jovetic': '', 'R. Falcao': '', 'L. Mothiba': '', 'N. Pépé': '', 'J. Bamba': '', 'C. Grenier': '', 'W. Khazri': '', 'L. Diony': '', 'M. Thuram': '', 'P. Capelle': '', 'A. Fulgini': '', 'I. Traoré': '', 'S. Thioub': '', 'C. Depres': '', 'R. Ripart': '', 'R. Thomas': '', 'P. Mendes': '', 'J. Tavares': '', 'S. Coulibaly': '', 'M. Doumbia': '', 'B. Traoré': '', 'M. Depay': '', 'I. Sissoko': '', 'N. Da Costa': '', 'Neymar': ''}\n",
      "{'D. Payet': '', 'V. Germain': '', 'F. Thauvin': '', 'E. Sala': '', 'R. Lopes': '', 'S. Jovetic': '', 'R. Falcao': '', 'L. Mothiba': '', 'N. Pépé': '', 'J. Bamba': '', 'C. Grenier': '', 'W. Khazri': '', 'L. Diony': '', 'M. Thuram': '', 'P. Capelle': '', 'A. Fulgini': '', 'I. Traoré': '', 'S. Thioub': '', 'C. Depres': '', 'R. Ripart': '', 'R. Thomas': '', 'P. Mendes': '', 'J. Tavares': '', 'S. Coulibaly': '', 'M. Doumbia': '', 'B. Traoré': '', 'M. Depay': '', 'I. Sissoko': '', 'N. Da Costa': '', 'Neymar': '', 'A. Rabiot': ''}\n",
      "{'D. Payet': '', 'V. Germain': '', 'F. Thauvin': '', 'E. Sala': '', 'R. Lopes': '', 'S. Jovetic': '', 'R. Falcao': '', 'L. Mothiba': '', 'N. Pépé': '', 'J. Bamba': '', 'C. Grenier': '', 'W. Khazri': '', 'L. Diony': '', 'M. Thuram': '', 'P. Capelle': '', 'A. Fulgini': '', 'I. Traoré': '', 'S. Thioub': '', 'C. Depres': '', 'R. Ripart': '', 'R. Thomas': '', 'P. Mendes': '', 'J. Tavares': '', 'S. Coulibaly': '', 'M. Doumbia': '', 'B. Traoré': '', 'M. Depay': '', 'I. Sissoko': '', 'N. Da Costa': '', 'Neymar': '', 'A. Rabiot': '', 'T. Weah': ''}\n"
     ]
    },
    {
     "name": "stdout",
     "output_type": "stream",
     "text": [
      "{'D. Payet': '', 'V. Germain': '', 'F. Thauvin': '', 'E. Sala': '', 'R. Lopes': '', 'S. Jovetic': '', 'R. Falcao': '', 'L. Mothiba': '', 'N. Pépé': '', 'J. Bamba': '', 'C. Grenier': '', 'W. Khazri': '', 'L. Diony': '', 'M. Thuram': '', 'P. Capelle': '', 'A. Fulgini': '', 'I. Traoré': '', 'S. Thioub': '', 'C. Depres': '', 'R. Ripart': '', 'R. Thomas': '', 'P. Mendes': '', 'J. Tavares': '', 'S. Coulibaly': '', 'M. Doumbia': '', 'B. Traoré': '', 'M. Depay': '', 'I. Sissoko': '', 'N. Da Costa': '', 'Neymar': '', 'A. Rabiot': '', 'T. Weah': '', 'P. Chavarria': ''}\n"
     ]
    },
    {
     "ename": "KeyboardInterrupt",
     "evalue": "",
     "output_type": "error",
     "traceback": [
      "\u001b[0;31m---------------------------------------------------------------------------\u001b[0m",
      "\u001b[0;31mKeyboardInterrupt\u001b[0m                         Traceback (most recent call last)",
      "\u001b[0;32m<ipython-input-15-b1be92135288>\u001b[0m in \u001b[0;36m<module>\u001b[0;34m\u001b[0m\n\u001b[1;32m      1\u001b[0m \u001b[0mgoals\u001b[0m \u001b[0;34m=\u001b[0m \u001b[0;34m{\u001b[0m\u001b[0;34m}\u001b[0m   \u001b[0;31m#goals\u001b[0m\u001b[0;34m\u001b[0m\u001b[0;34m\u001b[0m\u001b[0m\n\u001b[1;32m      2\u001b[0m \u001b[0;32mfor\u001b[0m \u001b[0mi\u001b[0m \u001b[0;32min\u001b[0m \u001b[0mrange\u001b[0m\u001b[0;34m(\u001b[0m\u001b[0mlen\u001b[0m\u001b[0;34m(\u001b[0m\u001b[0mdf_scrap\u001b[0m\u001b[0;34m)\u001b[0m\u001b[0;34m)\u001b[0m\u001b[0;34m:\u001b[0m\u001b[0;34m\u001b[0m\u001b[0;34m\u001b[0m\u001b[0m\n\u001b[0;32m----> 3\u001b[0;31m     \u001b[0mpage\u001b[0m \u001b[0;34m=\u001b[0m \u001b[0mrequests\u001b[0m\u001b[0;34m.\u001b[0m\u001b[0mget\u001b[0m\u001b[0;34m(\u001b[0m\u001b[0mdf_scrap\u001b[0m\u001b[0;34m.\u001b[0m\u001b[0mloc\u001b[0m\u001b[0;34m[\u001b[0m\u001b[0mi\u001b[0m\u001b[0;34m]\u001b[0m\u001b[0;34m[\u001b[0m\u001b[0;34m'Web'\u001b[0m\u001b[0;34m]\u001b[0m\u001b[0;34m)\u001b[0m\u001b[0;34m\u001b[0m\u001b[0;34m\u001b[0m\u001b[0m\n\u001b[0m\u001b[1;32m      4\u001b[0m     \u001b[0msoup\u001b[0m \u001b[0;34m=\u001b[0m \u001b[0mBeautifulSoup\u001b[0m\u001b[0;34m(\u001b[0m\u001b[0mpage\u001b[0m\u001b[0;34m.\u001b[0m\u001b[0mtext\u001b[0m\u001b[0;34m,\u001b[0m \u001b[0;34m'html.parser'\u001b[0m\u001b[0;34m)\u001b[0m\u001b[0;34m\u001b[0m\u001b[0;34m\u001b[0m\u001b[0m\n\u001b[1;32m      5\u001b[0m     \u001b[0mgoalers\u001b[0m \u001b[0;34m=\u001b[0m \u001b[0msoup\u001b[0m\u001b[0;34m.\u001b[0m\u001b[0mfind_all\u001b[0m\u001b[0;34m(\u001b[0m\u001b[0;34m\"span\"\u001b[0m\u001b[0;34m,\u001b[0m \u001b[0;34m{\u001b[0m\u001b[0;34m\"class\"\u001b[0m\u001b[0;34m:\u001b[0m \u001b[0;34m\"Scoreboard__scorer\"\u001b[0m\u001b[0;34m}\u001b[0m\u001b[0;34m)\u001b[0m\u001b[0;34m\u001b[0m\u001b[0;34m\u001b[0m\u001b[0m\n",
      "\u001b[0;32m~/anaconda3/lib/python3.7/site-packages/requests/api.py\u001b[0m in \u001b[0;36mget\u001b[0;34m(url, params, **kwargs)\u001b[0m\n\u001b[1;32m     74\u001b[0m \u001b[0;34m\u001b[0m\u001b[0m\n\u001b[1;32m     75\u001b[0m     \u001b[0mkwargs\u001b[0m\u001b[0;34m.\u001b[0m\u001b[0msetdefault\u001b[0m\u001b[0;34m(\u001b[0m\u001b[0;34m'allow_redirects'\u001b[0m\u001b[0;34m,\u001b[0m \u001b[0;32mTrue\u001b[0m\u001b[0;34m)\u001b[0m\u001b[0;34m\u001b[0m\u001b[0;34m\u001b[0m\u001b[0m\n\u001b[0;32m---> 76\u001b[0;31m     \u001b[0;32mreturn\u001b[0m \u001b[0mrequest\u001b[0m\u001b[0;34m(\u001b[0m\u001b[0;34m'get'\u001b[0m\u001b[0;34m,\u001b[0m \u001b[0murl\u001b[0m\u001b[0;34m,\u001b[0m \u001b[0mparams\u001b[0m\u001b[0;34m=\u001b[0m\u001b[0mparams\u001b[0m\u001b[0;34m,\u001b[0m \u001b[0;34m**\u001b[0m\u001b[0mkwargs\u001b[0m\u001b[0;34m)\u001b[0m\u001b[0;34m\u001b[0m\u001b[0;34m\u001b[0m\u001b[0m\n\u001b[0m\u001b[1;32m     77\u001b[0m \u001b[0;34m\u001b[0m\u001b[0m\n\u001b[1;32m     78\u001b[0m \u001b[0;34m\u001b[0m\u001b[0m\n",
      "\u001b[0;32m~/anaconda3/lib/python3.7/site-packages/requests/api.py\u001b[0m in \u001b[0;36mrequest\u001b[0;34m(method, url, **kwargs)\u001b[0m\n\u001b[1;32m     59\u001b[0m     \u001b[0;31m# cases, and look like a memory leak in others.\u001b[0m\u001b[0;34m\u001b[0m\u001b[0;34m\u001b[0m\u001b[0;34m\u001b[0m\u001b[0m\n\u001b[1;32m     60\u001b[0m     \u001b[0;32mwith\u001b[0m \u001b[0msessions\u001b[0m\u001b[0;34m.\u001b[0m\u001b[0mSession\u001b[0m\u001b[0;34m(\u001b[0m\u001b[0;34m)\u001b[0m \u001b[0;32mas\u001b[0m \u001b[0msession\u001b[0m\u001b[0;34m:\u001b[0m\u001b[0;34m\u001b[0m\u001b[0;34m\u001b[0m\u001b[0m\n\u001b[0;32m---> 61\u001b[0;31m         \u001b[0;32mreturn\u001b[0m \u001b[0msession\u001b[0m\u001b[0;34m.\u001b[0m\u001b[0mrequest\u001b[0m\u001b[0;34m(\u001b[0m\u001b[0mmethod\u001b[0m\u001b[0;34m=\u001b[0m\u001b[0mmethod\u001b[0m\u001b[0;34m,\u001b[0m \u001b[0murl\u001b[0m\u001b[0;34m=\u001b[0m\u001b[0murl\u001b[0m\u001b[0;34m,\u001b[0m \u001b[0;34m**\u001b[0m\u001b[0mkwargs\u001b[0m\u001b[0;34m)\u001b[0m\u001b[0;34m\u001b[0m\u001b[0;34m\u001b[0m\u001b[0m\n\u001b[0m\u001b[1;32m     62\u001b[0m \u001b[0;34m\u001b[0m\u001b[0m\n\u001b[1;32m     63\u001b[0m \u001b[0;34m\u001b[0m\u001b[0m\n",
      "\u001b[0;32m~/anaconda3/lib/python3.7/site-packages/requests/sessions.py\u001b[0m in \u001b[0;36mrequest\u001b[0;34m(self, method, url, params, data, headers, cookies, files, auth, timeout, allow_redirects, proxies, hooks, stream, verify, cert, json)\u001b[0m\n\u001b[1;32m    540\u001b[0m         }\n\u001b[1;32m    541\u001b[0m         \u001b[0msend_kwargs\u001b[0m\u001b[0;34m.\u001b[0m\u001b[0mupdate\u001b[0m\u001b[0;34m(\u001b[0m\u001b[0msettings\u001b[0m\u001b[0;34m)\u001b[0m\u001b[0;34m\u001b[0m\u001b[0;34m\u001b[0m\u001b[0m\n\u001b[0;32m--> 542\u001b[0;31m         \u001b[0mresp\u001b[0m \u001b[0;34m=\u001b[0m \u001b[0mself\u001b[0m\u001b[0;34m.\u001b[0m\u001b[0msend\u001b[0m\u001b[0;34m(\u001b[0m\u001b[0mprep\u001b[0m\u001b[0;34m,\u001b[0m \u001b[0;34m**\u001b[0m\u001b[0msend_kwargs\u001b[0m\u001b[0;34m)\u001b[0m\u001b[0;34m\u001b[0m\u001b[0;34m\u001b[0m\u001b[0m\n\u001b[0m\u001b[1;32m    543\u001b[0m \u001b[0;34m\u001b[0m\u001b[0m\n\u001b[1;32m    544\u001b[0m         \u001b[0;32mreturn\u001b[0m \u001b[0mresp\u001b[0m\u001b[0;34m\u001b[0m\u001b[0;34m\u001b[0m\u001b[0m\n",
      "\u001b[0;32m~/anaconda3/lib/python3.7/site-packages/requests/sessions.py\u001b[0m in \u001b[0;36msend\u001b[0;34m(self, request, **kwargs)\u001b[0m\n\u001b[1;32m    653\u001b[0m \u001b[0;34m\u001b[0m\u001b[0m\n\u001b[1;32m    654\u001b[0m         \u001b[0;31m# Send the request\u001b[0m\u001b[0;34m\u001b[0m\u001b[0;34m\u001b[0m\u001b[0;34m\u001b[0m\u001b[0m\n\u001b[0;32m--> 655\u001b[0;31m         \u001b[0mr\u001b[0m \u001b[0;34m=\u001b[0m \u001b[0madapter\u001b[0m\u001b[0;34m.\u001b[0m\u001b[0msend\u001b[0m\u001b[0;34m(\u001b[0m\u001b[0mrequest\u001b[0m\u001b[0;34m,\u001b[0m \u001b[0;34m**\u001b[0m\u001b[0mkwargs\u001b[0m\u001b[0;34m)\u001b[0m\u001b[0;34m\u001b[0m\u001b[0;34m\u001b[0m\u001b[0m\n\u001b[0m\u001b[1;32m    656\u001b[0m \u001b[0;34m\u001b[0m\u001b[0m\n\u001b[1;32m    657\u001b[0m         \u001b[0;31m# Total elapsed time of the request (approximately)\u001b[0m\u001b[0;34m\u001b[0m\u001b[0;34m\u001b[0m\u001b[0;34m\u001b[0m\u001b[0m\n",
      "\u001b[0;32m~/anaconda3/lib/python3.7/site-packages/requests/adapters.py\u001b[0m in \u001b[0;36msend\u001b[0;34m(self, request, stream, timeout, verify, cert, proxies)\u001b[0m\n\u001b[1;32m    447\u001b[0m                     \u001b[0mdecode_content\u001b[0m\u001b[0;34m=\u001b[0m\u001b[0;32mFalse\u001b[0m\u001b[0;34m,\u001b[0m\u001b[0;34m\u001b[0m\u001b[0;34m\u001b[0m\u001b[0m\n\u001b[1;32m    448\u001b[0m                     \u001b[0mretries\u001b[0m\u001b[0;34m=\u001b[0m\u001b[0mself\u001b[0m\u001b[0;34m.\u001b[0m\u001b[0mmax_retries\u001b[0m\u001b[0;34m,\u001b[0m\u001b[0;34m\u001b[0m\u001b[0;34m\u001b[0m\u001b[0m\n\u001b[0;32m--> 449\u001b[0;31m                     \u001b[0mtimeout\u001b[0m\u001b[0;34m=\u001b[0m\u001b[0mtimeout\u001b[0m\u001b[0;34m\u001b[0m\u001b[0;34m\u001b[0m\u001b[0m\n\u001b[0m\u001b[1;32m    450\u001b[0m                 )\n\u001b[1;32m    451\u001b[0m \u001b[0;34m\u001b[0m\u001b[0m\n",
      "\u001b[0;32m~/anaconda3/lib/python3.7/site-packages/urllib3/connectionpool.py\u001b[0m in \u001b[0;36murlopen\u001b[0;34m(self, method, url, body, headers, retries, redirect, assert_same_host, timeout, pool_timeout, release_conn, chunked, body_pos, **response_kw)\u001b[0m\n\u001b[1;32m    670\u001b[0m                 \u001b[0mbody\u001b[0m\u001b[0;34m=\u001b[0m\u001b[0mbody\u001b[0m\u001b[0;34m,\u001b[0m\u001b[0;34m\u001b[0m\u001b[0;34m\u001b[0m\u001b[0m\n\u001b[1;32m    671\u001b[0m                 \u001b[0mheaders\u001b[0m\u001b[0;34m=\u001b[0m\u001b[0mheaders\u001b[0m\u001b[0;34m,\u001b[0m\u001b[0;34m\u001b[0m\u001b[0;34m\u001b[0m\u001b[0m\n\u001b[0;32m--> 672\u001b[0;31m                 \u001b[0mchunked\u001b[0m\u001b[0;34m=\u001b[0m\u001b[0mchunked\u001b[0m\u001b[0;34m,\u001b[0m\u001b[0;34m\u001b[0m\u001b[0;34m\u001b[0m\u001b[0m\n\u001b[0m\u001b[1;32m    673\u001b[0m             )\n\u001b[1;32m    674\u001b[0m \u001b[0;34m\u001b[0m\u001b[0m\n",
      "\u001b[0;32m~/anaconda3/lib/python3.7/site-packages/urllib3/connectionpool.py\u001b[0m in \u001b[0;36m_make_request\u001b[0;34m(self, conn, method, url, timeout, chunked, **httplib_request_kw)\u001b[0m\n\u001b[1;32m    419\u001b[0m                     \u001b[0;31m# Python 3 (including for exceptions like SystemExit).\u001b[0m\u001b[0;34m\u001b[0m\u001b[0;34m\u001b[0m\u001b[0;34m\u001b[0m\u001b[0m\n\u001b[1;32m    420\u001b[0m                     \u001b[0;31m# Otherwise it looks like a bug in the code.\u001b[0m\u001b[0;34m\u001b[0m\u001b[0;34m\u001b[0m\u001b[0;34m\u001b[0m\u001b[0m\n\u001b[0;32m--> 421\u001b[0;31m                     \u001b[0msix\u001b[0m\u001b[0;34m.\u001b[0m\u001b[0mraise_from\u001b[0m\u001b[0;34m(\u001b[0m\u001b[0me\u001b[0m\u001b[0;34m,\u001b[0m \u001b[0;32mNone\u001b[0m\u001b[0;34m)\u001b[0m\u001b[0;34m\u001b[0m\u001b[0;34m\u001b[0m\u001b[0m\n\u001b[0m\u001b[1;32m    422\u001b[0m         \u001b[0;32mexcept\u001b[0m \u001b[0;34m(\u001b[0m\u001b[0mSocketTimeout\u001b[0m\u001b[0;34m,\u001b[0m \u001b[0mBaseSSLError\u001b[0m\u001b[0;34m,\u001b[0m \u001b[0mSocketError\u001b[0m\u001b[0;34m)\u001b[0m \u001b[0;32mas\u001b[0m \u001b[0me\u001b[0m\u001b[0;34m:\u001b[0m\u001b[0;34m\u001b[0m\u001b[0;34m\u001b[0m\u001b[0m\n\u001b[1;32m    423\u001b[0m             \u001b[0mself\u001b[0m\u001b[0;34m.\u001b[0m\u001b[0m_raise_timeout\u001b[0m\u001b[0;34m(\u001b[0m\u001b[0merr\u001b[0m\u001b[0;34m=\u001b[0m\u001b[0me\u001b[0m\u001b[0;34m,\u001b[0m \u001b[0murl\u001b[0m\u001b[0;34m=\u001b[0m\u001b[0murl\u001b[0m\u001b[0;34m,\u001b[0m \u001b[0mtimeout_value\u001b[0m\u001b[0;34m=\u001b[0m\u001b[0mread_timeout\u001b[0m\u001b[0;34m)\u001b[0m\u001b[0;34m\u001b[0m\u001b[0;34m\u001b[0m\u001b[0m\n",
      "\u001b[0;32m~/anaconda3/lib/python3.7/site-packages/urllib3/packages/six.py\u001b[0m in \u001b[0;36mraise_from\u001b[0;34m(value, from_value)\u001b[0m\n",
      "\u001b[0;32m~/anaconda3/lib/python3.7/site-packages/urllib3/connectionpool.py\u001b[0m in \u001b[0;36m_make_request\u001b[0;34m(self, conn, method, url, timeout, chunked, **httplib_request_kw)\u001b[0m\n\u001b[1;32m    414\u001b[0m                 \u001b[0;31m# Python 3\u001b[0m\u001b[0;34m\u001b[0m\u001b[0;34m\u001b[0m\u001b[0;34m\u001b[0m\u001b[0m\n\u001b[1;32m    415\u001b[0m                 \u001b[0;32mtry\u001b[0m\u001b[0;34m:\u001b[0m\u001b[0;34m\u001b[0m\u001b[0;34m\u001b[0m\u001b[0m\n\u001b[0;32m--> 416\u001b[0;31m                     \u001b[0mhttplib_response\u001b[0m \u001b[0;34m=\u001b[0m \u001b[0mconn\u001b[0m\u001b[0;34m.\u001b[0m\u001b[0mgetresponse\u001b[0m\u001b[0;34m(\u001b[0m\u001b[0;34m)\u001b[0m\u001b[0;34m\u001b[0m\u001b[0;34m\u001b[0m\u001b[0m\n\u001b[0m\u001b[1;32m    417\u001b[0m                 \u001b[0;32mexcept\u001b[0m \u001b[0mBaseException\u001b[0m \u001b[0;32mas\u001b[0m \u001b[0me\u001b[0m\u001b[0;34m:\u001b[0m\u001b[0;34m\u001b[0m\u001b[0;34m\u001b[0m\u001b[0m\n\u001b[1;32m    418\u001b[0m                     \u001b[0;31m# Remove the TypeError from the exception chain in\u001b[0m\u001b[0;34m\u001b[0m\u001b[0;34m\u001b[0m\u001b[0;34m\u001b[0m\u001b[0m\n",
      "\u001b[0;32m~/anaconda3/lib/python3.7/http/client.py\u001b[0m in \u001b[0;36mgetresponse\u001b[0;34m(self)\u001b[0m\n\u001b[1;32m   1342\u001b[0m         \u001b[0;32mtry\u001b[0m\u001b[0;34m:\u001b[0m\u001b[0;34m\u001b[0m\u001b[0;34m\u001b[0m\u001b[0m\n\u001b[1;32m   1343\u001b[0m             \u001b[0;32mtry\u001b[0m\u001b[0;34m:\u001b[0m\u001b[0;34m\u001b[0m\u001b[0;34m\u001b[0m\u001b[0m\n\u001b[0;32m-> 1344\u001b[0;31m                 \u001b[0mresponse\u001b[0m\u001b[0;34m.\u001b[0m\u001b[0mbegin\u001b[0m\u001b[0;34m(\u001b[0m\u001b[0;34m)\u001b[0m\u001b[0;34m\u001b[0m\u001b[0;34m\u001b[0m\u001b[0m\n\u001b[0m\u001b[1;32m   1345\u001b[0m             \u001b[0;32mexcept\u001b[0m \u001b[0mConnectionError\u001b[0m\u001b[0;34m:\u001b[0m\u001b[0;34m\u001b[0m\u001b[0;34m\u001b[0m\u001b[0m\n\u001b[1;32m   1346\u001b[0m                 \u001b[0mself\u001b[0m\u001b[0;34m.\u001b[0m\u001b[0mclose\u001b[0m\u001b[0;34m(\u001b[0m\u001b[0;34m)\u001b[0m\u001b[0;34m\u001b[0m\u001b[0;34m\u001b[0m\u001b[0m\n",
      "\u001b[0;32m~/anaconda3/lib/python3.7/http/client.py\u001b[0m in \u001b[0;36mbegin\u001b[0;34m(self)\u001b[0m\n\u001b[1;32m    304\u001b[0m         \u001b[0;31m# read until we get a non-100 response\u001b[0m\u001b[0;34m\u001b[0m\u001b[0;34m\u001b[0m\u001b[0;34m\u001b[0m\u001b[0m\n\u001b[1;32m    305\u001b[0m         \u001b[0;32mwhile\u001b[0m \u001b[0;32mTrue\u001b[0m\u001b[0;34m:\u001b[0m\u001b[0;34m\u001b[0m\u001b[0;34m\u001b[0m\u001b[0m\n\u001b[0;32m--> 306\u001b[0;31m             \u001b[0mversion\u001b[0m\u001b[0;34m,\u001b[0m \u001b[0mstatus\u001b[0m\u001b[0;34m,\u001b[0m \u001b[0mreason\u001b[0m \u001b[0;34m=\u001b[0m \u001b[0mself\u001b[0m\u001b[0;34m.\u001b[0m\u001b[0m_read_status\u001b[0m\u001b[0;34m(\u001b[0m\u001b[0;34m)\u001b[0m\u001b[0;34m\u001b[0m\u001b[0;34m\u001b[0m\u001b[0m\n\u001b[0m\u001b[1;32m    307\u001b[0m             \u001b[0;32mif\u001b[0m \u001b[0mstatus\u001b[0m \u001b[0;34m!=\u001b[0m \u001b[0mCONTINUE\u001b[0m\u001b[0;34m:\u001b[0m\u001b[0;34m\u001b[0m\u001b[0;34m\u001b[0m\u001b[0m\n\u001b[1;32m    308\u001b[0m                 \u001b[0;32mbreak\u001b[0m\u001b[0;34m\u001b[0m\u001b[0;34m\u001b[0m\u001b[0m\n",
      "\u001b[0;32m~/anaconda3/lib/python3.7/http/client.py\u001b[0m in \u001b[0;36m_read_status\u001b[0;34m(self)\u001b[0m\n\u001b[1;32m    265\u001b[0m \u001b[0;34m\u001b[0m\u001b[0m\n\u001b[1;32m    266\u001b[0m     \u001b[0;32mdef\u001b[0m \u001b[0m_read_status\u001b[0m\u001b[0;34m(\u001b[0m\u001b[0mself\u001b[0m\u001b[0;34m)\u001b[0m\u001b[0;34m:\u001b[0m\u001b[0;34m\u001b[0m\u001b[0;34m\u001b[0m\u001b[0m\n\u001b[0;32m--> 267\u001b[0;31m         \u001b[0mline\u001b[0m \u001b[0;34m=\u001b[0m \u001b[0mstr\u001b[0m\u001b[0;34m(\u001b[0m\u001b[0mself\u001b[0m\u001b[0;34m.\u001b[0m\u001b[0mfp\u001b[0m\u001b[0;34m.\u001b[0m\u001b[0mreadline\u001b[0m\u001b[0;34m(\u001b[0m\u001b[0m_MAXLINE\u001b[0m \u001b[0;34m+\u001b[0m \u001b[0;36m1\u001b[0m\u001b[0;34m)\u001b[0m\u001b[0;34m,\u001b[0m \u001b[0;34m\"iso-8859-1\"\u001b[0m\u001b[0;34m)\u001b[0m\u001b[0;34m\u001b[0m\u001b[0;34m\u001b[0m\u001b[0m\n\u001b[0m\u001b[1;32m    268\u001b[0m         \u001b[0;32mif\u001b[0m \u001b[0mlen\u001b[0m\u001b[0;34m(\u001b[0m\u001b[0mline\u001b[0m\u001b[0;34m)\u001b[0m \u001b[0;34m>\u001b[0m \u001b[0m_MAXLINE\u001b[0m\u001b[0;34m:\u001b[0m\u001b[0;34m\u001b[0m\u001b[0;34m\u001b[0m\u001b[0m\n\u001b[1;32m    269\u001b[0m             \u001b[0;32mraise\u001b[0m \u001b[0mLineTooLong\u001b[0m\u001b[0;34m(\u001b[0m\u001b[0;34m\"status line\"\u001b[0m\u001b[0;34m)\u001b[0m\u001b[0;34m\u001b[0m\u001b[0;34m\u001b[0m\u001b[0m\n",
      "\u001b[0;32m~/anaconda3/lib/python3.7/socket.py\u001b[0m in \u001b[0;36mreadinto\u001b[0;34m(self, b)\u001b[0m\n\u001b[1;32m    587\u001b[0m         \u001b[0;32mwhile\u001b[0m \u001b[0;32mTrue\u001b[0m\u001b[0;34m:\u001b[0m\u001b[0;34m\u001b[0m\u001b[0;34m\u001b[0m\u001b[0m\n\u001b[1;32m    588\u001b[0m             \u001b[0;32mtry\u001b[0m\u001b[0;34m:\u001b[0m\u001b[0;34m\u001b[0m\u001b[0;34m\u001b[0m\u001b[0m\n\u001b[0;32m--> 589\u001b[0;31m                 \u001b[0;32mreturn\u001b[0m \u001b[0mself\u001b[0m\u001b[0;34m.\u001b[0m\u001b[0m_sock\u001b[0m\u001b[0;34m.\u001b[0m\u001b[0mrecv_into\u001b[0m\u001b[0;34m(\u001b[0m\u001b[0mb\u001b[0m\u001b[0;34m)\u001b[0m\u001b[0;34m\u001b[0m\u001b[0;34m\u001b[0m\u001b[0m\n\u001b[0m\u001b[1;32m    590\u001b[0m             \u001b[0;32mexcept\u001b[0m \u001b[0mtimeout\u001b[0m\u001b[0;34m:\u001b[0m\u001b[0;34m\u001b[0m\u001b[0;34m\u001b[0m\u001b[0m\n\u001b[1;32m    591\u001b[0m                 \u001b[0mself\u001b[0m\u001b[0;34m.\u001b[0m\u001b[0m_timeout_occurred\u001b[0m \u001b[0;34m=\u001b[0m \u001b[0;32mTrue\u001b[0m\u001b[0;34m\u001b[0m\u001b[0;34m\u001b[0m\u001b[0m\n",
      "\u001b[0;32m~/anaconda3/lib/python3.7/ssl.py\u001b[0m in \u001b[0;36mrecv_into\u001b[0;34m(self, buffer, nbytes, flags)\u001b[0m\n\u001b[1;32m   1069\u001b[0m                   \u001b[0;34m\"non-zero flags not allowed in calls to recv_into() on %s\"\u001b[0m \u001b[0;34m%\u001b[0m\u001b[0;34m\u001b[0m\u001b[0;34m\u001b[0m\u001b[0m\n\u001b[1;32m   1070\u001b[0m                   self.__class__)\n\u001b[0;32m-> 1071\u001b[0;31m             \u001b[0;32mreturn\u001b[0m \u001b[0mself\u001b[0m\u001b[0;34m.\u001b[0m\u001b[0mread\u001b[0m\u001b[0;34m(\u001b[0m\u001b[0mnbytes\u001b[0m\u001b[0;34m,\u001b[0m \u001b[0mbuffer\u001b[0m\u001b[0;34m)\u001b[0m\u001b[0;34m\u001b[0m\u001b[0;34m\u001b[0m\u001b[0m\n\u001b[0m\u001b[1;32m   1072\u001b[0m         \u001b[0;32melse\u001b[0m\u001b[0;34m:\u001b[0m\u001b[0;34m\u001b[0m\u001b[0;34m\u001b[0m\u001b[0m\n\u001b[1;32m   1073\u001b[0m             \u001b[0;32mreturn\u001b[0m \u001b[0msuper\u001b[0m\u001b[0;34m(\u001b[0m\u001b[0;34m)\u001b[0m\u001b[0;34m.\u001b[0m\u001b[0mrecv_into\u001b[0m\u001b[0;34m(\u001b[0m\u001b[0mbuffer\u001b[0m\u001b[0;34m,\u001b[0m \u001b[0mnbytes\u001b[0m\u001b[0;34m,\u001b[0m \u001b[0mflags\u001b[0m\u001b[0;34m)\u001b[0m\u001b[0;34m\u001b[0m\u001b[0;34m\u001b[0m\u001b[0m\n",
      "\u001b[0;32m~/anaconda3/lib/python3.7/ssl.py\u001b[0m in \u001b[0;36mread\u001b[0;34m(self, len, buffer)\u001b[0m\n\u001b[1;32m    927\u001b[0m         \u001b[0;32mtry\u001b[0m\u001b[0;34m:\u001b[0m\u001b[0;34m\u001b[0m\u001b[0;34m\u001b[0m\u001b[0m\n\u001b[1;32m    928\u001b[0m             \u001b[0;32mif\u001b[0m \u001b[0mbuffer\u001b[0m \u001b[0;32mis\u001b[0m \u001b[0;32mnot\u001b[0m \u001b[0;32mNone\u001b[0m\u001b[0;34m:\u001b[0m\u001b[0;34m\u001b[0m\u001b[0;34m\u001b[0m\u001b[0m\n\u001b[0;32m--> 929\u001b[0;31m                 \u001b[0;32mreturn\u001b[0m \u001b[0mself\u001b[0m\u001b[0;34m.\u001b[0m\u001b[0m_sslobj\u001b[0m\u001b[0;34m.\u001b[0m\u001b[0mread\u001b[0m\u001b[0;34m(\u001b[0m\u001b[0mlen\u001b[0m\u001b[0;34m,\u001b[0m \u001b[0mbuffer\u001b[0m\u001b[0;34m)\u001b[0m\u001b[0;34m\u001b[0m\u001b[0;34m\u001b[0m\u001b[0m\n\u001b[0m\u001b[1;32m    930\u001b[0m             \u001b[0;32melse\u001b[0m\u001b[0;34m:\u001b[0m\u001b[0;34m\u001b[0m\u001b[0;34m\u001b[0m\u001b[0m\n\u001b[1;32m    931\u001b[0m                 \u001b[0;32mreturn\u001b[0m \u001b[0mself\u001b[0m\u001b[0;34m.\u001b[0m\u001b[0m_sslobj\u001b[0m\u001b[0;34m.\u001b[0m\u001b[0mread\u001b[0m\u001b[0;34m(\u001b[0m\u001b[0mlen\u001b[0m\u001b[0;34m)\u001b[0m\u001b[0;34m\u001b[0m\u001b[0;34m\u001b[0m\u001b[0m\n",
      "\u001b[0;31mKeyboardInterrupt\u001b[0m: "
     ]
    }
   ],
   "source": [
    "goals = {}   #goals\n",
    "for i in range(len(df_scrap)):\n",
    "    page = requests.get(df_scrap.loc[i]['Web'])\n",
    "    soup = BeautifulSoup(page.text, 'html.parser')\n",
    "    goalers = soup.find_all(\"span\", {\"class\": \"Scoreboard__scorer\"})\n",
    "    for j in range(len(goalers)):\n",
    "        goal_type = soup.find_all(\"div\", {\"class\": \"Scoreboard__goals\"})\n",
    "        goal_type = goal_type[j].find_all('span')\n",
    "        goals[goalers[j].text] = (\"\")\n",
    "        if ((goal_type[0].text or goal_type[2].text) == '(s.p.)'):\n",
    "            goals[goalers[j].text] = '(s.p.)'\n",
    "        else:\n",
    "            pass\n",
    "        if ((goal_type[0].text or goal_type[2].text) == '(csc)'):\n",
    "            goals[goalers[j].text] = '(csc)'\n",
    "        else:\n",
    "            pass \n",
    "        print(goals)    \n",
    "    #print(f\"Journée : {df_scrap.loc[i]['Week']}, buteurs : {goalers}\")\n",
    "    #INSERT INTO table (player_id, match_id, goal_type)"
   ]
  },
  {
   "cell_type": "code",
   "execution_count": 13,
   "metadata": {
    "ExecuteTime": {
     "end_time": "2021-06-24T12:26:12.672909Z",
     "start_time": "2021-06-24T12:26:12.467400Z"
    }
   },
   "outputs": [
    {
     "name": "stdout",
     "output_type": "stream",
     "text": [
      "['S. Guirassy', 'S. Guirassy', 'S. Guirassy']\n",
      "3\n"
     ]
    }
   ],
   "source": [
    "page2 = requests.get(\"https://www.lequipe.fr/Football/match-direct/ligue-1/2018-2019/guingamp-psg-live/428156\")\n",
    "soup2 = BeautifulSoup(page2.text, 'html.parser')\n",
    "goalers = soup.find_all(\"span\", {\"class\": \"Scoreboard__scorer\"})\n",
    "goalers = [goalers[0].text for i in range(len(goalers))]\n",
    "print(goalers)\n",
    "goal_type = soup.find_all(\"div\", {\"class\": \"Scoreboard__goals\"})\n",
    "goal_type = goal_type[0].find_all('span')\n",
    "print(len(goal_type))\n",
    "if len(goal_type) > 3:\n",
    "    print(goal_type[i].select('span')[2])\n",
    "else:\n",
    "    pass"
   ]
  },
  {
   "cell_type": "code",
   "execution_count": 14,
   "metadata": {
    "ExecuteTime": {
     "end_time": "2021-06-24T12:22:06.031126Z",
     "start_time": "2021-06-24T12:21:56.449Z"
    }
   },
   "outputs": [
    {
     "ename": "NameError",
     "evalue": "name 'test' is not defined",
     "output_type": "error",
     "traceback": [
      "\u001b[0;31m---------------------------------------------------------------------------\u001b[0m",
      "\u001b[0;31mNameError\u001b[0m                                 Traceback (most recent call last)",
      "\u001b[0;32m<ipython-input-14-8196d54b7d3b>\u001b[0m in \u001b[0;36m<module>\u001b[0;34m\u001b[0m\n\u001b[0;32m----> 1\u001b[0;31m \u001b[0;32mfor\u001b[0m \u001b[0mi\u001b[0m \u001b[0;32min\u001b[0m \u001b[0mrange\u001b[0m\u001b[0;34m(\u001b[0m\u001b[0mlen\u001b[0m\u001b[0;34m(\u001b[0m\u001b[0mtest\u001b[0m\u001b[0;34m)\u001b[0m\u001b[0;34m)\u001b[0m\u001b[0;34m:\u001b[0m\u001b[0;34m\u001b[0m\u001b[0;34m\u001b[0m\u001b[0m\n\u001b[0m\u001b[1;32m      2\u001b[0m     \u001b[0;31m#print(test[i].text)\u001b[0m\u001b[0;34m\u001b[0m\u001b[0;34m\u001b[0m\u001b[0;34m\u001b[0m\u001b[0m\n\u001b[1;32m      3\u001b[0m     \u001b[0ms\u001b[0m \u001b[0;34m=\u001b[0m \u001b[0mtest\u001b[0m\u001b[0;34m[\u001b[0m\u001b[0mi\u001b[0m\u001b[0;34m]\u001b[0m\u001b[0;34m.\u001b[0m\u001b[0mtext\u001b[0m\u001b[0;34m\u001b[0m\u001b[0;34m\u001b[0m\u001b[0m\n\u001b[1;32m      4\u001b[0m     \u001b[0ms_new\u001b[0m \u001b[0;34m=\u001b[0m \u001b[0mre\u001b[0m\u001b[0;34m.\u001b[0m\u001b[0msub\u001b[0m\u001b[0;34m(\u001b[0m\u001b[0;34m\"[\\d]\"\u001b[0m\u001b[0;34m,\u001b[0m \u001b[0;34m''\u001b[0m\u001b[0;34m,\u001b[0m \u001b[0ms\u001b[0m\u001b[0;34m)\u001b[0m\u001b[0;34m\u001b[0m\u001b[0;34m\u001b[0m\u001b[0m\n\u001b[1;32m      5\u001b[0m     \u001b[0mt\u001b[0m \u001b[0;34m=\u001b[0m \u001b[0ms_new\u001b[0m\u001b[0;34m.\u001b[0m\u001b[0msplit\u001b[0m\u001b[0;34m(\u001b[0m\u001b[0;34m\"'\"\u001b[0m\u001b[0;34m)\u001b[0m\u001b[0;34m\u001b[0m\u001b[0;34m\u001b[0m\u001b[0m\n",
      "\u001b[0;31mNameError\u001b[0m: name 'test' is not defined"
     ]
    }
   ],
   "source": [
    "for i in range(len(test)):\n",
    "    #print(test[i].text)  \n",
    "    s = test[i].text\n",
    "    s_new = re.sub(\"[\\d]\", '', s)\n",
    "    t = s_new.split(\"'\")\n",
    "    print(t)"
   ]
  },
  {
   "cell_type": "code",
   "execution_count": null,
   "metadata": {
    "ExecuteTime": {
     "end_time": "2021-06-24T12:22:06.033041Z",
     "start_time": "2021-06-24T12:21:56.450Z"
    }
   },
   "outputs": [],
   "source": [
    "test[1].select('span')[2]"
   ]
  },
  {
   "cell_type": "code",
   "execution_count": null,
   "metadata": {
    "ExecuteTime": {
     "end_time": "2021-06-24T12:22:06.034489Z",
     "start_time": "2021-06-24T12:21:56.451Z"
    }
   },
   "outputs": [],
   "source": [
    "test[1]"
   ]
  },
  {
   "cell_type": "code",
   "execution_count": null,
   "metadata": {
    "ExecuteTime": {
     "end_time": "2021-06-24T12:56:15.812618Z",
     "start_time": "2021-06-24T12:56:15.799520Z"
    }
   },
   "outputs": [],
   "source": [
    "goal_type"
   ]
  },
  {
   "cell_type": "code",
   "execution_count": null,
   "metadata": {},
   "outputs": [],
   "source": []
  }
 ],
 "metadata": {
  "kernelspec": {
   "display_name": "Python 3",
   "language": "python",
   "name": "python3"
  },
  "language_info": {
   "codemirror_mode": {
    "name": "ipython",
    "version": 3
   },
   "file_extension": ".py",
   "mimetype": "text/x-python",
   "name": "python",
   "nbconvert_exporter": "python",
   "pygments_lexer": "ipython3",
   "version": "3.7.6"
  },
  "latex_envs": {
   "LaTeX_envs_menu_present": true,
   "autoclose": false,
   "autocomplete": true,
   "bibliofile": "biblio.bib",
   "cite_by": "apalike",
   "current_citInitial": 1,
   "eqLabelWithNumbers": true,
   "eqNumInitial": 1,
   "hotkeys": {
    "equation": "Ctrl-E",
    "itemize": "Ctrl-I"
   },
   "labels_anchors": false,
   "latex_user_defs": false,
   "report_style_numbering": false,
   "user_envs_cfg": false
  },
  "toc": {
   "base_numbering": 1,
   "nav_menu": {},
   "number_sections": true,
   "sideBar": true,
   "skip_h1_title": false,
   "title_cell": "Table of Contents",
   "title_sidebar": "Contents",
   "toc_cell": false,
   "toc_position": {},
   "toc_section_display": true,
   "toc_window_display": false
  }
 },
 "nbformat": 4,
 "nbformat_minor": 4
}
