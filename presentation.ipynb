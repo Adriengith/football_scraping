{
 "cells": [
  {
   "cell_type": "markdown",
   "metadata": {},
   "source": [
    "## Rappeler l'objectif du projet"
   ]
  },
  {
   "cell_type": "markdown",
   "metadata": {},
   "source": [
    "Conception et création d'une base de données relationnelle incluant un maximum de données sur un championnat de football et la météo associée à chaque rencontre\n",
    "\n",
    "L’évolution du nombre de buts d’une équipe en fonction de la météo (pluviométrie, température)  \n",
    "L’évolution du nombre de buts d’un joueur en fonction de la météo (pluviométrie, température)  \n",
    "Toutes propositions permettant d’illustrer au mieux la relation entre météo et le dynamisme d’un match."
   ]
  },
  {
   "cell_type": "markdown",
   "metadata": {},
   "source": [
    "## Présenter les ressources utilisées"
   ]
  },
  {
   "cell_type": "markdown",
   "metadata": {},
   "source": [
    "Le site de l'Equipe  \n",
    "Le site historique-meteo.net"
   ]
  },
  {
   "cell_type": "markdown",
   "metadata": {},
   "source": [
    "## Présenter les outils utilisés"
   ]
  },
  {
   "cell_type": "markdown",
   "metadata": {},
   "source": [
    "Outils de scrapping : beautifulSoup  \n",
    "Outils de database : sqlite3  \n",
    "Outils de visualisation : jupyter  \n",
    "Outils de coding collaboratif : github  \n",
    "Outils de partage des tâches : teams"
   ]
  },
  {
   "cell_type": "markdown",
   "metadata": {},
   "source": [
    "## Présenter la gestion projet et la répartition des taches"
   ]
  },
  {
   "cell_type": "markdown",
   "metadata": {},
   "source": [
    "Architecture de la DB : groupe entier  \n",
    "Scrapping equipe : Alex\n",
    "Scrapping matchs, buteurs : Florian  \n",
    "Scrapping méteo : Loïc  \n",
    "Intégration DB : Adrien  \n",
    "Refactoring : groupe entier  "
   ]
  },
  {
   "cell_type": "markdown",
   "metadata": {},
   "source": [
    "## Présenter l'avancement du projet"
   ]
  },
  {
   "cell_type": "markdown",
   "metadata": {},
   "source": [
    "Scrapping OK   \n",
    "Database OK  \n",
    "Viz à faire"
   ]
  },
  {
   "cell_type": "markdown",
   "metadata": {},
   "source": [
    "## Présenter les points notables (difficultés, astuces...)"
   ]
  },
  {
   "cell_type": "markdown",
   "metadata": {},
   "source": [
    "L'utilisation du JSON pour le scrraping nous a particulièrement aidé pour atteindre facilement les informations.  \n",
    "Difficulté à la concentration  \n",
    "Difficulté pour trouver la bonne API météo"
   ]
  },
  {
   "cell_type": "markdown",
   "metadata": {},
   "source": [
    "## Les points d'améliorations"
   ]
  },
  {
   "cell_type": "markdown",
   "metadata": {},
   "source": [
    "Utilisation de GitHub"
   ]
  }
 ],
 "metadata": {
  "kernelspec": {
   "display_name": "Python 3",
   "language": "python",
   "name": "python3"
  },
  "language_info": {
   "codemirror_mode": {
    "name": "ipython",
    "version": 3
   },
   "file_extension": ".py",
   "mimetype": "text/x-python",
   "name": "python",
   "nbconvert_exporter": "python",
   "pygments_lexer": "ipython3",
   "version": "3.8.5"
  },
  "latex_envs": {
   "LaTeX_envs_menu_present": true,
   "autoclose": false,
   "autocomplete": true,
   "bibliofile": "biblio.bib",
   "cite_by": "apalike",
   "current_citInitial": 1,
   "eqLabelWithNumbers": true,
   "eqNumInitial": 1,
   "hotkeys": {
    "equation": "Ctrl-E",
    "itemize": "Ctrl-I"
   },
   "labels_anchors": false,
   "latex_user_defs": false,
   "report_style_numbering": false,
   "user_envs_cfg": false
  },
  "toc": {
   "base_numbering": 1,
   "nav_menu": {},
   "number_sections": true,
   "sideBar": true,
   "skip_h1_title": false,
   "title_cell": "Table of Contents",
   "title_sidebar": "Contents",
   "toc_cell": false,
   "toc_position": {
    "height": "calc(100% - 180px)",
    "left": "10px",
    "top": "150px",
    "width": "288px"
   },
   "toc_section_display": true,
   "toc_window_display": true
  }
 },
 "nbformat": 4,
 "nbformat_minor": 4
}
